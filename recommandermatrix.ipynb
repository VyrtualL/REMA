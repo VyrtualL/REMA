{
 "cells": [
  {
   "cell_type": "markdown",
   "metadata": {},
   "source": [
    "# Recommender System / Matrix Factorisation - Project 2024 Matis Braun SCIA"
   ]
  },
  {
   "cell_type": "markdown",
   "metadata": {},
   "source": [
    "The project is to do a movie pairing recommender system. We have to develop a recommender system that pairs two movies based on complementary genres, themes or viewer preferences, similar to the concept used on Data Night Movies."
   ]
  },
  {
   "cell_type": "code",
   "execution_count": 1,
   "metadata": {
    "_cell_guid": "b1076dfc-b9ad-4769-8c92-a6c4dae69d19",
    "_uuid": "8f2839f25d086af736a60e9eeb907d3b93b6e0e5",
    "execution": {
     "iopub.execute_input": "2024-07-07T20:43:28.466298Z",
     "iopub.status.busy": "2024-07-07T20:43:28.465893Z",
     "iopub.status.idle": "2024-07-07T20:44:06.350426Z",
     "shell.execute_reply": "2024-07-07T20:44:06.349178Z",
     "shell.execute_reply.started": "2024-07-07T20:43:28.466264Z"
    }
   },
   "outputs": [
    {
     "name": "stdout",
     "output_type": "stream",
     "text": [
      "Requirement already satisfied: pyspark in /opt/conda/lib/python3.10/site-packages (3.5.1)\n",
      "Requirement already satisfied: py4j==0.10.9.7 in /opt/conda/lib/python3.10/site-packages (from pyspark) (0.10.9.7)\n"
     ]
    },
    {
     "name": "stderr",
     "output_type": "stream",
     "text": [
      "2024-07-07 20:43:57.449779: E external/local_xla/xla/stream_executor/cuda/cuda_dnn.cc:9261] Unable to register cuDNN factory: Attempting to register factory for plugin cuDNN when one has already been registered\n",
      "2024-07-07 20:43:57.449950: E external/local_xla/xla/stream_executor/cuda/cuda_fft.cc:607] Unable to register cuFFT factory: Attempting to register factory for plugin cuFFT when one has already been registered\n",
      "2024-07-07 20:43:57.456225: E external/local_xla/xla/stream_executor/cuda/cuda_blas.cc:1515] Unable to register cuBLAS factory: Attempting to register factory for plugin cuBLAS when one has already been registered\n"
     ]
    }
   ],
   "source": [
    "import numpy as np\n",
    "import pandas as pd\n",
    "import os\n",
    "import matplotlib.pyplot as plt\n",
    "import seaborn as sns\n",
    "import re\n",
    "from sklearn.model_selection import train_test_split\n",
    "from sklearn.metrics import mean_squared_error\n",
    "from scipy.sparse import csr_matrix\n",
    "from sklearn.preprocessing import MinMaxScaler\n",
    "!pip install pyspark\n",
    "from pyspark.sql import SparkSession\n",
    "from pyspark.ml.recommendation import ALS\n",
    "from pyspark.sql import functions as F\n",
    "from pyspark.sql.functions import col\n",
    "from pyspark.sql.functions import udf\n",
    "from pyspark.sql.types import IntegerType\n",
    "from pyspark.ml.evaluation import RegressionEvaluator\n",
    "from pyspark.ml.tuning import CrossValidator, ParamGridBuilder\n",
    "from sklearn.preprocessing import LabelEncoder\n",
    "import tensorflow as tf\n",
    "from tensorflow.keras.models import Model\n",
    "from tensorflow.keras.layers import Input, Embedding, Dense, Flatten, Dropout, MultiHeadAttention, LayerNormalization, Add, Concatenate\n",
    "from tensorflow.keras.preprocessing.sequence import pad_sequences\n",
    "from tensorflow.keras.layers import LSTM, TimeDistributed\n",
    "from tensorflow.keras.optimizers import Adam\n",
    "import torch\n",
    "import torch.nn as nn\n",
    "import torch.optim as optim\n",
    "import math"
   ]
  },
  {
   "cell_type": "markdown",
   "metadata": {},
   "source": [
    "For the project, we will use 2 differents datasets :\n",
    "- MovieLens, which will be the base of our data. We will use the MovieLens 1M Dataset, and take the movies, the ratings and the users files.\n",
    "- IMDB, which will complete the MovieLens dataset, by taking the title_basics and the name_basics files. We will see this deeper later. "
   ]
  },
  {
   "cell_type": "code",
   "execution_count": 2,
   "metadata": {
    "execution": {
     "iopub.execute_input": "2024-07-07T20:44:06.353483Z",
     "iopub.status.busy": "2024-07-07T20:44:06.352676Z",
     "iopub.status.idle": "2024-07-07T20:44:06.360163Z",
     "shell.execute_reply": "2024-07-07T20:44:06.358070Z",
     "shell.execute_reply.started": "2024-07-07T20:44:06.353442Z"
    }
   },
   "outputs": [],
   "source": [
    "movies_path = '/kaggle/input/moviedb/ml-1m/movies.dat'\n",
    "ratings_path = '/kaggle/input/moviedb/ml-1m/ratings.dat'\n",
    "users_path = '/kaggle/input/moviedb/ml-1m/users.dat'\n",
    "title_basics_path = '/kaggle/input/moviedb/ml-1m/title.basics.tsv'\n",
    "name_basics_path = '/kaggle/input/moviedb/ml-1m/name.basics.tsv'"
   ]
  },
  {
   "cell_type": "markdown",
   "metadata": {},
   "source": [
    "In the function load_movielens, we create 3 datasets \"movies\", \"ratings\" and \"users\" from MovieLens.\n",
    "\n",
    "- For \"ratings\", there will be 4 columns : \"userId\" which is the id of the user, \"moviesId\" the movie id he has on his viewed movies, \"rating\" the score he gived to the movie (to 0 to 5)\n",
    "- For \"users\" there will be 4 columns : \"userId\" which is the id of the user, \"gender\" the gender of the user, \"age\" the age of the user and \"occupation\" the sort of job the user has (like doctor (6), programmer (12), unemployed (19))\n",
    "- For \"movies\", we will do first somes changes. On MovieLens dataset, movies have a title like that : ToyStory(1995). But we don't want the date after the title, because for exemple on IMDB dataset, movie title is just ToyStory. So for MovieLens, we will separate the date and the title, and we will create a new column \"year\". Also, there movies named \"Pretender, The\" but on IMDB named \"The Pretender\", so we will change the titles of all title like that. So there will be 4 columns : \"movieId\" which is the id of the movie, \"title\" the title of the movie without date, \"genres\" the genres of the movie and \"year\" the release year of the movie"
   ]
  },
  {
   "cell_type": "code",
   "execution_count": 3,
   "metadata": {
    "execution": {
     "iopub.execute_input": "2024-07-07T20:44:06.362166Z",
     "iopub.status.busy": "2024-07-07T20:44:06.361758Z",
     "iopub.status.idle": "2024-07-07T20:44:06.380234Z",
     "shell.execute_reply": "2024-07-07T20:44:06.378916Z",
     "shell.execute_reply.started": "2024-07-07T20:44:06.362131Z"
    }
   },
   "outputs": [],
   "source": [
    "def load_movielens(movies_path, ratings_path, users_path):\n",
    "    movies = pd.read_csv(movies_path, sep='::', engine='python', \n",
    "                         names=['movieId', 'title', 'genres'], encoding='latin1')\n",
    "    \n",
    "    movies['year'] = movies['title'].str.extract(r'\\((\\d{4})\\)', expand=False)\n",
    "    movies['title'] = movies['title'].str.replace(r'\\(\\d{4}\\)', '', regex=True).str.strip()\n",
    "    \n",
    "    def transform_title(title):\n",
    "        match = re.search(r'(.+),\\s(The|An|A)$', title)\n",
    "        if match:\n",
    "            title = f\"{match.group(2)} {match.group(1)}\"\n",
    "        return title\n",
    "    \n",
    "    movies['title'] = movies['title'].apply(transform_title)\n",
    "    print(movies)\n",
    "    \n",
    "    ratings = pd.read_csv(ratings_path, sep='::', engine='python', \n",
    "                          names=['userId', 'movieId', 'rating', 'timestamp'], encoding='latin1')\n",
    "    ratings = ratings.drop(columns=['timestamp'])\n",
    "    print(ratings)\n",
    "    \n",
    "    users = pd.read_csv(users_path, sep='::', engine='python', \n",
    "                        names=['userId', 'gender', 'age', 'occupation', 'zipCode'], encoding='latin1')\n",
    "    users = users.drop(columns=['zipCode'])\n",
    "    print(users)\n",
    "    return movies, ratings, users"
   ]
  },
  {
   "cell_type": "code",
   "execution_count": 93,
   "metadata": {
    "execution": {
     "iopub.execute_input": "2024-07-07T21:32:48.539045Z",
     "iopub.status.busy": "2024-07-07T21:32:48.538053Z",
     "iopub.status.idle": "2024-07-07T21:32:55.885300Z",
     "shell.execute_reply": "2024-07-07T21:32:55.883886Z",
     "shell.execute_reply.started": "2024-07-07T21:32:48.539002Z"
    }
   },
   "outputs": [
    {
     "name": "stdout",
     "output_type": "stream",
     "text": [
      "      movieId                        title                        genres  year\n",
      "0           1                    Toy Story   Animation|Children's|Comedy  1995\n",
      "1           2                      Jumanji  Adventure|Children's|Fantasy  1995\n",
      "2           3             Grumpier Old Men                Comedy|Romance  1995\n",
      "3           4            Waiting to Exhale                  Comedy|Drama  1995\n",
      "4           5  Father of the Bride Part II                        Comedy  1995\n",
      "...       ...                          ...                           ...   ...\n",
      "3878     3948             Meet the Parents                        Comedy  2000\n",
      "3879     3949          Requiem for a Dream                         Drama  2000\n",
      "3880     3950                    Tigerland                         Drama  2000\n",
      "3881     3951             Two Family House                         Drama  2000\n",
      "3882     3952                The Contender                Drama|Thriller  2000\n",
      "\n",
      "[3883 rows x 4 columns]\n",
      "         userId  movieId  rating\n",
      "0             1     1193       5\n",
      "1             1      661       3\n",
      "2             1      914       3\n",
      "3             1     3408       4\n",
      "4             1     2355       5\n",
      "...         ...      ...     ...\n",
      "1000204    6040     1091       1\n",
      "1000205    6040     1094       5\n",
      "1000206    6040      562       5\n",
      "1000207    6040     1096       4\n",
      "1000208    6040     1097       4\n",
      "\n",
      "[1000209 rows x 3 columns]\n",
      "      userId gender  age  occupation\n",
      "0          1      F    1          10\n",
      "1          2      M   56          16\n",
      "2          3      M   25          15\n",
      "3          4      M   45           7\n",
      "4          5      M   25          20\n",
      "...      ...    ...  ...         ...\n",
      "6035    6036      F   25          15\n",
      "6036    6037      F   45           1\n",
      "6037    6038      F   56           1\n",
      "6038    6039      F   45           0\n",
      "6039    6040      M   25           6\n",
      "\n",
      "[6040 rows x 4 columns]\n"
     ]
    }
   ],
   "source": [
    "movies, ratings, users = load_movielens(movies_path, ratings_path, users_path)"
   ]
  },
  {
   "cell_type": "markdown",
   "metadata": {},
   "source": [
    "As we can see below, we have 3883 differents movies on our database, 6040 differents users and 1 000 209 differents ratings "
   ]
  },
  {
   "cell_type": "code",
   "execution_count": 5,
   "metadata": {
    "execution": {
     "iopub.execute_input": "2024-07-07T20:44:13.371972Z",
     "iopub.status.busy": "2024-07-07T20:44:13.371595Z",
     "iopub.status.idle": "2024-07-07T20:44:13.379068Z",
     "shell.execute_reply": "2024-07-07T20:44:13.377366Z",
     "shell.execute_reply.started": "2024-07-07T20:44:13.371940Z"
    }
   },
   "outputs": [
    {
     "name": "stdout",
     "output_type": "stream",
     "text": [
      "3883\n",
      "1000209\n",
      "6040\n"
     ]
    }
   ],
   "source": [
    "print(len(movies))\n",
    "print(len(ratings))\n",
    "print(len(users))"
   ]
  },
  {
   "cell_type": "markdown",
   "metadata": {},
   "source": [
    "In the function load_imdb, we create 2 datasets \"title_basics\" and \"name_basics\" from IMDB.\n",
    "- For title_basics, there will be 5 columns : \"tconst\" which is the id of the movie, \"titleType\" the type of the video (here movie), \"primaryTitle\" the title of the movie, \"startYear\" the release year of the movie and \"genres\" the genres of the movie. On title basics, we deleted all the rows where the video was not movie (like tvEpisode, videoGame,...)\n",
    "- For name_basics, there will be 3 columns : \"nconst\" which is the id of the public figure in movie, \"primaryName\" the name of the public figure and \"knownForTitles\" the movie id where he directed or played or ..."
   ]
  },
  {
   "cell_type": "code",
   "execution_count": 6,
   "metadata": {
    "execution": {
     "iopub.execute_input": "2024-07-07T20:44:13.381632Z",
     "iopub.status.busy": "2024-07-07T20:44:13.381177Z",
     "iopub.status.idle": "2024-07-07T20:44:13.391953Z",
     "shell.execute_reply": "2024-07-07T20:44:13.390682Z",
     "shell.execute_reply.started": "2024-07-07T20:44:13.381596Z"
    }
   },
   "outputs": [],
   "source": [
    "def load_imdb(title_basics_path, name_basics_path):\n",
    "    title_basics = pd.read_csv(title_basics_path, sep='\\t', \n",
    "                               usecols=['tconst', 'titleType', 'primaryTitle', 'startYear', 'genres'],\n",
    "                               dtype={'tconst': str, 'titleType': str, 'primaryTitle': str, 'startYear': str, 'genres': str})\n",
    "    title_basics['startYear'] = pd.to_numeric(title_basics['startYear'], errors='coerce')\n",
    "    \n",
    "    title_basics = title_basics[title_basics['titleType'] != 'tvEpisode']\n",
    "    title_basics = title_basics[title_basics['titleType'] != 'video']\n",
    "    title_basics = title_basics[title_basics['titleType'] != 'tvMiniSeries']\n",
    "    title_basics = title_basics[title_basics['titleType'] != 'tvSpecial']\n",
    "    title_basics = title_basics[title_basics['titleType'] != 'videoGame']\n",
    "    \n",
    "    title_basics = title_basics[title_basics['titleType'] == 'movie']\n",
    "    print(title_basics)\n",
    "    \n",
    "    name_basics = pd.read_csv(name_basics_path, sep='\\t',\n",
    "                              usecols=['nconst', 'primaryName', 'knownForTitles'],\n",
    "                              dtype={'nconst': str, 'primaryName': str, 'knownForTitles': str})\n",
    "    \n",
    "    print(name_basics)\n",
    "    return title_basics, name_basics"
   ]
  },
  {
   "cell_type": "code",
   "execution_count": 7,
   "metadata": {
    "execution": {
     "iopub.execute_input": "2024-07-07T20:44:13.394206Z",
     "iopub.status.busy": "2024-07-07T20:44:13.393690Z",
     "iopub.status.idle": "2024-07-07T20:45:20.412805Z",
     "shell.execute_reply": "2024-07-07T20:45:20.411431Z",
     "shell.execute_reply.started": "2024-07-07T20:44:13.394159Z"
    }
   },
   "outputs": [
    {
     "name": "stdout",
     "output_type": "stream",
     "text": [
      "             tconst titleType  \\\n",
      "8         tt0000009     movie   \n",
      "144       tt0000147     movie   \n",
      "498       tt0000502     movie   \n",
      "570       tt0000574     movie   \n",
      "587       tt0000591     movie   \n",
      "...             ...       ...   \n",
      "10855986  tt9916622     movie   \n",
      "10856013  tt9916680     movie   \n",
      "10856025  tt9916706     movie   \n",
      "10856035  tt9916730     movie   \n",
      "10856045  tt9916754     movie   \n",
      "\n",
      "                                               primaryTitle  startYear  \\\n",
      "8                                                Miss Jerry     1894.0   \n",
      "144                           The Corbett-Fitzsimmons Fight     1897.0   \n",
      "498                                                Bohemios     1905.0   \n",
      "570                             The Story of the Kelly Gang     1906.0   \n",
      "587                                        The Prodigal Son     1907.0   \n",
      "...                                                     ...        ...   \n",
      "10855986        Rodolpho Teóphilo - O Legado de um Pioneiro     2015.0   \n",
      "10856013  De la ilusión al desconcierto: cine colombiano...     2007.0   \n",
      "10856025                                    Dankyavar Danka     2013.0   \n",
      "10856035                                             6 Gunn     2017.0   \n",
      "10856045                     Chico Albuquerque - Revelações     2013.0   \n",
      "\n",
      "                              genres  \n",
      "8                            Romance  \n",
      "144           Documentary,News,Sport  \n",
      "498                               \\N  \n",
      "570       Action,Adventure,Biography  \n",
      "587                            Drama  \n",
      "...                              ...  \n",
      "10855986                 Documentary  \n",
      "10856013                 Documentary  \n",
      "10856025                      Comedy  \n",
      "10856035                       Drama  \n",
      "10856045                 Documentary  \n",
      "\n",
      "[683874 rows x 5 columns]\n",
      "             nconst         primaryName  \\\n",
      "0         nm0000001        Fred Astaire   \n",
      "1         nm0000002       Lauren Bacall   \n",
      "2         nm0000003     Brigitte Bardot   \n",
      "3         nm0000004        John Belushi   \n",
      "4         nm0000005      Ingmar Bergman   \n",
      "...             ...                 ...   \n",
      "13575521  nm9993714   Romeo del Rosario   \n",
      "13575522  nm9993716       Essias Loberg   \n",
      "13575523  nm9993717  Harikrishnan Rajan   \n",
      "13575524  nm9993718         Aayush Nair   \n",
      "13575525  nm9993719          Andre Hill   \n",
      "\n",
      "                                   knownForTitles  \n",
      "0         tt0072308,tt0050419,tt0053137,tt0027125  \n",
      "1         tt0037382,tt0075213,tt0117057,tt0038355  \n",
      "2         tt0057345,tt0049189,tt0056404,tt0054452  \n",
      "3         tt0072562,tt0077975,tt0080455,tt0078723  \n",
      "4         tt0050986,tt0083922,tt0050976,tt0069467  \n",
      "...                                           ...  \n",
      "13575521          tt11657662,tt14069590,tt2455546  \n",
      "13575522                                       \\N  \n",
      "13575523                                tt8736744  \n",
      "13575524                                tt8736744  \n",
      "13575525                                       \\N  \n",
      "\n",
      "[13575526 rows x 3 columns]\n"
     ]
    }
   ],
   "source": [
    "title_basics, name_basics = load_imdb(title_basics_path, name_basics_path)"
   ]
  },
  {
   "cell_type": "markdown",
   "metadata": {},
   "source": [
    "Below, we can see that 683 874 differents movies and 13 575 526 public figure who worked on movies (directors, actors, editor, makeup artist,...)"
   ]
  },
  {
   "cell_type": "code",
   "execution_count": 8,
   "metadata": {
    "execution": {
     "iopub.execute_input": "2024-07-07T20:45:20.414661Z",
     "iopub.status.busy": "2024-07-07T20:45:20.414267Z",
     "iopub.status.idle": "2024-07-07T20:45:20.420824Z",
     "shell.execute_reply": "2024-07-07T20:45:20.419607Z",
     "shell.execute_reply.started": "2024-07-07T20:45:20.414624Z"
    }
   },
   "outputs": [
    {
     "name": "stdout",
     "output_type": "stream",
     "text": [
      "683874\n",
      "13575526\n"
     ]
    }
   ],
   "source": [
    "print(len(title_basics))\n",
    "print(len(name_basics))"
   ]
  },
  {
   "cell_type": "code",
   "execution_count": 9,
   "metadata": {
    "execution": {
     "iopub.execute_input": "2024-07-07T20:45:20.422692Z",
     "iopub.status.busy": "2024-07-07T20:45:20.422306Z",
     "iopub.status.idle": "2024-07-07T20:45:20.431522Z",
     "shell.execute_reply": "2024-07-07T20:45:20.430121Z",
     "shell.execute_reply.started": "2024-07-07T20:45:20.422660Z"
    }
   },
   "outputs": [],
   "source": [
    "def merge_datasets(movies, title_basics):    \n",
    "    movies['year'] = pd.to_numeric(movies['year'], errors='coerce')\n",
    "    title_basics['startYear'] = pd.to_numeric(title_basics['startYear'], errors='coerce')\n",
    "    \n",
    "    merged_df = pd.merge(movies, title_basics, how='inner', left_on=['title', 'year'], right_on=['primaryTitle', 'startYear'])\n",
    "    merged_df.drop(columns=['year'], inplace=True)\n",
    "    \n",
    "    return merged_df"
   ]
  },
  {
   "cell_type": "code",
   "execution_count": 10,
   "metadata": {
    "execution": {
     "iopub.execute_input": "2024-07-07T20:45:20.437622Z",
     "iopub.status.busy": "2024-07-07T20:45:20.437121Z",
     "iopub.status.idle": "2024-07-07T20:45:20.915829Z",
     "shell.execute_reply": "2024-07-07T20:45:20.914741Z",
     "shell.execute_reply.started": "2024-07-07T20:45:20.437582Z"
    }
   },
   "outputs": [],
   "source": [
    "merged_data = merge_datasets(movies, title_basics)"
   ]
  },
  {
   "cell_type": "code",
   "execution_count": 11,
   "metadata": {
    "execution": {
     "iopub.execute_input": "2024-07-07T20:45:20.917939Z",
     "iopub.status.busy": "2024-07-07T20:45:20.917555Z",
     "iopub.status.idle": "2024-07-07T20:45:20.938675Z",
     "shell.execute_reply": "2024-07-07T20:45:20.937228Z",
     "shell.execute_reply.started": "2024-07-07T20:45:20.917904Z"
    }
   },
   "outputs": [
    {
     "data": {
      "text/html": [
       "<div>\n",
       "<style scoped>\n",
       "    .dataframe tbody tr th:only-of-type {\n",
       "        vertical-align: middle;\n",
       "    }\n",
       "\n",
       "    .dataframe tbody tr th {\n",
       "        vertical-align: top;\n",
       "    }\n",
       "\n",
       "    .dataframe thead th {\n",
       "        text-align: right;\n",
       "    }\n",
       "</style>\n",
       "<table border=\"1\" class=\"dataframe\">\n",
       "  <thead>\n",
       "    <tr style=\"text-align: right;\">\n",
       "      <th></th>\n",
       "      <th>movieId</th>\n",
       "      <th>title</th>\n",
       "      <th>genres_x</th>\n",
       "      <th>tconst</th>\n",
       "      <th>titleType</th>\n",
       "      <th>primaryTitle</th>\n",
       "      <th>startYear</th>\n",
       "      <th>genres_y</th>\n",
       "    </tr>\n",
       "  </thead>\n",
       "  <tbody>\n",
       "    <tr>\n",
       "      <th>0</th>\n",
       "      <td>1</td>\n",
       "      <td>Toy Story</td>\n",
       "      <td>Animation|Children's|Comedy</td>\n",
       "      <td>tt0114709</td>\n",
       "      <td>movie</td>\n",
       "      <td>Toy Story</td>\n",
       "      <td>1995.0</td>\n",
       "      <td>Adventure,Animation,Comedy</td>\n",
       "    </tr>\n",
       "    <tr>\n",
       "      <th>1</th>\n",
       "      <td>2</td>\n",
       "      <td>Jumanji</td>\n",
       "      <td>Adventure|Children's|Fantasy</td>\n",
       "      <td>tt0113497</td>\n",
       "      <td>movie</td>\n",
       "      <td>Jumanji</td>\n",
       "      <td>1995.0</td>\n",
       "      <td>Adventure,Comedy,Family</td>\n",
       "    </tr>\n",
       "    <tr>\n",
       "      <th>2</th>\n",
       "      <td>3</td>\n",
       "      <td>Grumpier Old Men</td>\n",
       "      <td>Comedy|Romance</td>\n",
       "      <td>tt0113228</td>\n",
       "      <td>movie</td>\n",
       "      <td>Grumpier Old Men</td>\n",
       "      <td>1995.0</td>\n",
       "      <td>Comedy,Romance</td>\n",
       "    </tr>\n",
       "    <tr>\n",
       "      <th>3</th>\n",
       "      <td>4</td>\n",
       "      <td>Waiting to Exhale</td>\n",
       "      <td>Comedy|Drama</td>\n",
       "      <td>tt0114885</td>\n",
       "      <td>movie</td>\n",
       "      <td>Waiting to Exhale</td>\n",
       "      <td>1995.0</td>\n",
       "      <td>Comedy,Drama,Romance</td>\n",
       "    </tr>\n",
       "    <tr>\n",
       "      <th>4</th>\n",
       "      <td>5</td>\n",
       "      <td>Father of the Bride Part II</td>\n",
       "      <td>Comedy</td>\n",
       "      <td>tt0113041</td>\n",
       "      <td>movie</td>\n",
       "      <td>Father of the Bride Part II</td>\n",
       "      <td>1995.0</td>\n",
       "      <td>Comedy,Family,Romance</td>\n",
       "    </tr>\n",
       "    <tr>\n",
       "      <th>...</th>\n",
       "      <td>...</td>\n",
       "      <td>...</td>\n",
       "      <td>...</td>\n",
       "      <td>...</td>\n",
       "      <td>...</td>\n",
       "      <td>...</td>\n",
       "      <td>...</td>\n",
       "      <td>...</td>\n",
       "    </tr>\n",
       "    <tr>\n",
       "      <th>3088</th>\n",
       "      <td>3948</td>\n",
       "      <td>Meet the Parents</td>\n",
       "      <td>Comedy</td>\n",
       "      <td>tt0212338</td>\n",
       "      <td>movie</td>\n",
       "      <td>Meet the Parents</td>\n",
       "      <td>2000.0</td>\n",
       "      <td>Comedy,Romance</td>\n",
       "    </tr>\n",
       "    <tr>\n",
       "      <th>3089</th>\n",
       "      <td>3949</td>\n",
       "      <td>Requiem for a Dream</td>\n",
       "      <td>Drama</td>\n",
       "      <td>tt0180093</td>\n",
       "      <td>movie</td>\n",
       "      <td>Requiem for a Dream</td>\n",
       "      <td>2000.0</td>\n",
       "      <td>Drama</td>\n",
       "    </tr>\n",
       "    <tr>\n",
       "      <th>3090</th>\n",
       "      <td>3950</td>\n",
       "      <td>Tigerland</td>\n",
       "      <td>Drama</td>\n",
       "      <td>tt0170691</td>\n",
       "      <td>movie</td>\n",
       "      <td>Tigerland</td>\n",
       "      <td>2000.0</td>\n",
       "      <td>Drama,War</td>\n",
       "    </tr>\n",
       "    <tr>\n",
       "      <th>3091</th>\n",
       "      <td>3951</td>\n",
       "      <td>Two Family House</td>\n",
       "      <td>Drama</td>\n",
       "      <td>tt0202641</td>\n",
       "      <td>movie</td>\n",
       "      <td>Two Family House</td>\n",
       "      <td>2000.0</td>\n",
       "      <td>Comedy,Drama,Romance</td>\n",
       "    </tr>\n",
       "    <tr>\n",
       "      <th>3092</th>\n",
       "      <td>3952</td>\n",
       "      <td>The Contender</td>\n",
       "      <td>Drama|Thriller</td>\n",
       "      <td>tt0208874</td>\n",
       "      <td>movie</td>\n",
       "      <td>The Contender</td>\n",
       "      <td>2000.0</td>\n",
       "      <td>Drama,Thriller</td>\n",
       "    </tr>\n",
       "  </tbody>\n",
       "</table>\n",
       "<p>3093 rows × 8 columns</p>\n",
       "</div>"
      ],
      "text/plain": [
       "      movieId                        title                      genres_x  \\\n",
       "0           1                    Toy Story   Animation|Children's|Comedy   \n",
       "1           2                      Jumanji  Adventure|Children's|Fantasy   \n",
       "2           3             Grumpier Old Men                Comedy|Romance   \n",
       "3           4            Waiting to Exhale                  Comedy|Drama   \n",
       "4           5  Father of the Bride Part II                        Comedy   \n",
       "...       ...                          ...                           ...   \n",
       "3088     3948             Meet the Parents                        Comedy   \n",
       "3089     3949          Requiem for a Dream                         Drama   \n",
       "3090     3950                    Tigerland                         Drama   \n",
       "3091     3951             Two Family House                         Drama   \n",
       "3092     3952                The Contender                Drama|Thriller   \n",
       "\n",
       "         tconst titleType                 primaryTitle  startYear  \\\n",
       "0     tt0114709     movie                    Toy Story     1995.0   \n",
       "1     tt0113497     movie                      Jumanji     1995.0   \n",
       "2     tt0113228     movie             Grumpier Old Men     1995.0   \n",
       "3     tt0114885     movie            Waiting to Exhale     1995.0   \n",
       "4     tt0113041     movie  Father of the Bride Part II     1995.0   \n",
       "...         ...       ...                          ...        ...   \n",
       "3088  tt0212338     movie             Meet the Parents     2000.0   \n",
       "3089  tt0180093     movie          Requiem for a Dream     2000.0   \n",
       "3090  tt0170691     movie                    Tigerland     2000.0   \n",
       "3091  tt0202641     movie             Two Family House     2000.0   \n",
       "3092  tt0208874     movie                The Contender     2000.0   \n",
       "\n",
       "                        genres_y  \n",
       "0     Adventure,Animation,Comedy  \n",
       "1        Adventure,Comedy,Family  \n",
       "2                 Comedy,Romance  \n",
       "3           Comedy,Drama,Romance  \n",
       "4          Comedy,Family,Romance  \n",
       "...                          ...  \n",
       "3088              Comedy,Romance  \n",
       "3089                       Drama  \n",
       "3090                   Drama,War  \n",
       "3091        Comedy,Drama,Romance  \n",
       "3092              Drama,Thriller  \n",
       "\n",
       "[3093 rows x 8 columns]"
      ]
     },
     "execution_count": 11,
     "metadata": {},
     "output_type": "execute_result"
    }
   ],
   "source": [
    "merged_data"
   ]
  },
  {
   "cell_type": "markdown",
   "metadata": {},
   "source": [
    "After, we will enhance the merged_data. For that, we will add staff names, and combining genre information between MovieLens and IMDB"
   ]
  },
  {
   "cell_type": "markdown",
   "metadata": {},
   "source": [
    "First, we will create a dictionary of movies which maps to the staffs list. After that, we will add the column staff on merged_data using the dictionnary\n",
    "\n",
    "In second, we will add missing genres, because we have less information in MovieLens than in IMDB, so we will add missing genres of IMDB."
   ]
  },
  {
   "cell_type": "code",
   "execution_count": 12,
   "metadata": {
    "execution": {
     "iopub.execute_input": "2024-07-07T20:45:20.940423Z",
     "iopub.status.busy": "2024-07-07T20:45:20.940053Z",
     "iopub.status.idle": "2024-07-07T20:45:20.951418Z",
     "shell.execute_reply": "2024-07-07T20:45:20.950228Z",
     "shell.execute_reply.started": "2024-07-07T20:45:20.940393Z"
    }
   },
   "outputs": [],
   "source": [
    "def enhance_with_directors_and_genres(merged_data, name_basics):\n",
    "    title_staff = name_basics[name_basics['knownForTitles'].notnull()]\n",
    "    title_staff_dict = {}\n",
    "    for _, row in title_staff.iterrows():\n",
    "        titles = row['knownForTitles'].split(',')\n",
    "        for title in titles:\n",
    "            if title in title_staff_dict:\n",
    "                title_staff_dict[title].append(row['primaryName'])\n",
    "            else:\n",
    "                title_staff_dict[title] = [row['primaryName']]\n",
    "    \n",
    "    merged_data['staff'] = merged_data['tconst'].apply(lambda x: ', '.join(title_staff_dict.get(x, [])))\n",
    "    \n",
    "    def merge_genres(genres_ml, genres_imdb):\n",
    "        if pd.isna(genres_ml):\n",
    "            return genres_imdb\n",
    "        genres_ml_set = set(genres_ml.split('|'))\n",
    "        genres_imdb_set = set(genres_imdb.split(','))\n",
    "        merged_genres = genres_ml_set.union(genres_imdb_set)\n",
    "        return '|'.join(merged_genres)\n",
    "    \n",
    "    merged_data['genres'] = merged_data.apply(lambda row: merge_genres(row['genres_x'], row['genres_y']), axis=1)\n",
    "    \n",
    "    enhanced_data = merged_data[['movieId', 'primaryTitle', 'genres', 'startYear', 'titleType', 'staff', 'tconst']]\n",
    "    enhanced_data.rename(columns={'primaryTitle': 'title', 'startYear': 'year'}, inplace=True)\n",
    "    \n",
    "    return enhanced_data"
   ]
  },
  {
   "cell_type": "code",
   "execution_count": 13,
   "metadata": {
    "execution": {
     "iopub.execute_input": "2024-07-07T20:45:20.953937Z",
     "iopub.status.busy": "2024-07-07T20:45:20.952969Z",
     "iopub.status.idle": "2024-07-07T21:00:32.117593Z",
     "shell.execute_reply": "2024-07-07T21:00:32.116435Z",
     "shell.execute_reply.started": "2024-07-07T20:45:20.953898Z"
    }
   },
   "outputs": [
    {
     "name": "stderr",
     "output_type": "stream",
     "text": [
      "/tmp/ipykernel_1645/4115973951.py:25: SettingWithCopyWarning: \n",
      "A value is trying to be set on a copy of a slice from a DataFrame\n",
      "\n",
      "See the caveats in the documentation: https://pandas.pydata.org/pandas-docs/stable/user_guide/indexing.html#returning-a-view-versus-a-copy\n",
      "  enhanced_data.rename(columns={'primaryTitle': 'title', 'startYear': 'year'}, inplace=True)\n"
     ]
    }
   ],
   "source": [
    "enhanced_data = enhance_with_directors_and_genres(merged_data, name_basics)"
   ]
  },
  {
   "cell_type": "markdown",
   "metadata": {},
   "source": [
    "We saw we have our table with movieId, title, genres (all from MovieLens and IMDB), year, titleType, staff (with all the staff implied on the movie) and tconst"
   ]
  },
  {
   "cell_type": "code",
   "execution_count": 14,
   "metadata": {
    "execution": {
     "iopub.execute_input": "2024-07-07T21:00:32.119543Z",
     "iopub.status.busy": "2024-07-07T21:00:32.119193Z",
     "iopub.status.idle": "2024-07-07T21:00:32.125983Z",
     "shell.execute_reply": "2024-07-07T21:00:32.124623Z",
     "shell.execute_reply.started": "2024-07-07T21:00:32.119514Z"
    }
   },
   "outputs": [],
   "source": [
    "enhanced_data2 = enhanced_data"
   ]
  },
  {
   "cell_type": "code",
   "execution_count": 94,
   "metadata": {
    "execution": {
     "iopub.execute_input": "2024-07-07T21:33:17.169295Z",
     "iopub.status.busy": "2024-07-07T21:33:17.168881Z",
     "iopub.status.idle": "2024-07-07T21:33:17.175862Z",
     "shell.execute_reply": "2024-07-07T21:33:17.173890Z",
     "shell.execute_reply.started": "2024-07-07T21:33:17.169264Z"
    }
   },
   "outputs": [],
   "source": [
    "enhanced_data = enhanced_data2"
   ]
  },
  {
   "cell_type": "code",
   "execution_count": 95,
   "metadata": {
    "execution": {
     "iopub.execute_input": "2024-07-07T21:33:18.886083Z",
     "iopub.status.busy": "2024-07-07T21:33:18.885594Z",
     "iopub.status.idle": "2024-07-07T21:33:18.909886Z",
     "shell.execute_reply": "2024-07-07T21:33:18.908511Z",
     "shell.execute_reply.started": "2024-07-07T21:33:18.886047Z"
    }
   },
   "outputs": [
    {
     "data": {
      "text/html": [
       "<div>\n",
       "<style scoped>\n",
       "    .dataframe tbody tr th:only-of-type {\n",
       "        vertical-align: middle;\n",
       "    }\n",
       "\n",
       "    .dataframe tbody tr th {\n",
       "        vertical-align: top;\n",
       "    }\n",
       "\n",
       "    .dataframe thead th {\n",
       "        text-align: right;\n",
       "    }\n",
       "</style>\n",
       "<table border=\"1\" class=\"dataframe\">\n",
       "  <thead>\n",
       "    <tr style=\"text-align: right;\">\n",
       "      <th></th>\n",
       "      <th>movieId</th>\n",
       "      <th>title</th>\n",
       "      <th>genres</th>\n",
       "      <th>year</th>\n",
       "      <th>titleType</th>\n",
       "      <th>staff</th>\n",
       "      <th>tconst</th>\n",
       "      <th>title_encoded</th>\n",
       "      <th>genres_encoded</th>\n",
       "      <th>staff_encoded</th>\n",
       "    </tr>\n",
       "  </thead>\n",
       "  <tbody>\n",
       "    <tr>\n",
       "      <th>0</th>\n",
       "      <td>1</td>\n",
       "      <td>Toy Story</td>\n",
       "      <td>Adventure|Children's|Comedy|Animation</td>\n",
       "      <td>1995.0</td>\n",
       "      <td>movie</td>\n",
       "      <td>Tim Allen, John Ratzenberger, Jim Varney, John...</td>\n",
       "      <td>tt0114709</td>\n",
       "      <td>2864</td>\n",
       "      <td>81</td>\n",
       "      <td>2859</td>\n",
       "    </tr>\n",
       "    <tr>\n",
       "      <th>1</th>\n",
       "      <td>2</td>\n",
       "      <td>Jumanji</td>\n",
       "      <td>Fantasy|Family|Children's|Comedy|Adventure</td>\n",
       "      <td>1995.0</td>\n",
       "      <td>movie</td>\n",
       "      <td>Bonnie Hunt, Bebe Neuwirth, Adam Hann-Byrd, Ro...</td>\n",
       "      <td>tt0113497</td>\n",
       "      <td>1222</td>\n",
       "      <td>331</td>\n",
       "      <td>346</td>\n",
       "    </tr>\n",
       "    <tr>\n",
       "      <th>2</th>\n",
       "      <td>3</td>\n",
       "      <td>Grumpier Old Men</td>\n",
       "      <td>Romance|Comedy</td>\n",
       "      <td>1995.0</td>\n",
       "      <td>movie</td>\n",
       "      <td>James Andelin, Richard C. Berman, Les Brown, D...</td>\n",
       "      <td>tt0113228</td>\n",
       "      <td>980</td>\n",
       "      <td>504</td>\n",
       "      <td>1245</td>\n",
       "    </tr>\n",
       "    <tr>\n",
       "      <th>3</th>\n",
       "      <td>4</td>\n",
       "      <td>Waiting to Exhale</td>\n",
       "      <td>Romance|Drama|Comedy</td>\n",
       "      <td>1995.0</td>\n",
       "      <td>movie</td>\n",
       "      <td>Whitney Houston, Kenneth 'Babyface' Edmonds, L...</td>\n",
       "      <td>tt0114885</td>\n",
       "      <td>2952</td>\n",
       "      <td>530</td>\n",
       "      <td>3025</td>\n",
       "    </tr>\n",
       "    <tr>\n",
       "      <th>4</th>\n",
       "      <td>5</td>\n",
       "      <td>Father of the Bride Part II</td>\n",
       "      <td>Family|Romance|Comedy</td>\n",
       "      <td>1995.0</td>\n",
       "      <td>movie</td>\n",
       "      <td>Rodrigo Botero, William Akey, Sam Anderson, Da...</td>\n",
       "      <td>tt0113041</td>\n",
       "      <td>800</td>\n",
       "      <td>303</td>\n",
       "      <td>2523</td>\n",
       "    </tr>\n",
       "    <tr>\n",
       "      <th>...</th>\n",
       "      <td>...</td>\n",
       "      <td>...</td>\n",
       "      <td>...</td>\n",
       "      <td>...</td>\n",
       "      <td>...</td>\n",
       "      <td>...</td>\n",
       "      <td>...</td>\n",
       "      <td>...</td>\n",
       "      <td>...</td>\n",
       "      <td>...</td>\n",
       "    </tr>\n",
       "    <tr>\n",
       "      <th>3088</th>\n",
       "      <td>3948</td>\n",
       "      <td>Meet the Parents</td>\n",
       "      <td>Romance|Comedy</td>\n",
       "      <td>2000.0</td>\n",
       "      <td>movie</td>\n",
       "      <td>Blythe Danner, Teri Polo, Tom Houghton, Jon Ab...</td>\n",
       "      <td>tt0212338</td>\n",
       "      <td>1434</td>\n",
       "      <td>504</td>\n",
       "      <td>326</td>\n",
       "    </tr>\n",
       "    <tr>\n",
       "      <th>3089</th>\n",
       "      <td>3949</td>\n",
       "      <td>Requiem for a Dream</td>\n",
       "      <td>Drama</td>\n",
       "      <td>2000.0</td>\n",
       "      <td>movie</td>\n",
       "      <td>Jennifer Connelly, Ellen Burstyn, Jared Leto, ...</td>\n",
       "      <td>tt0180093</td>\n",
       "      <td>1833</td>\n",
       "      <td>232</td>\n",
       "      <td>1356</td>\n",
       "    </tr>\n",
       "    <tr>\n",
       "      <th>3090</th>\n",
       "      <td>3950</td>\n",
       "      <td>Tigerland</td>\n",
       "      <td>War|Drama</td>\n",
       "      <td>2000.0</td>\n",
       "      <td>movie</td>\n",
       "      <td>Karolyn Arnold, Arian Ash, Rhynell Brumfield, ...</td>\n",
       "      <td>tt0170691</td>\n",
       "      <td>2829</td>\n",
       "      <td>649</td>\n",
       "      <td>1639</td>\n",
       "    </tr>\n",
       "    <tr>\n",
       "      <th>3091</th>\n",
       "      <td>3951</td>\n",
       "      <td>Two Family House</td>\n",
       "      <td>Romance|Drama|Comedy</td>\n",
       "      <td>2000.0</td>\n",
       "      <td>movie</td>\n",
       "      <td>Jeffrey L. Baker, Sally Bonython, Adam Carr, R...</td>\n",
       "      <td>tt0202641</td>\n",
       "      <td>2902</td>\n",
       "      <td>530</td>\n",
       "      <td>1350</td>\n",
       "    </tr>\n",
       "    <tr>\n",
       "      <th>3092</th>\n",
       "      <td>3952</td>\n",
       "      <td>The Contender</td>\n",
       "      <td>Drama|Thriller</td>\n",
       "      <td>2000.0</td>\n",
       "      <td>movie</td>\n",
       "      <td>Scott Shiffman, Eloise Crane Stammerjohn, Arno...</td>\n",
       "      <td>tt0208874</td>\n",
       "      <td>2311</td>\n",
       "      <td>269</td>\n",
       "      <td>2633</td>\n",
       "    </tr>\n",
       "  </tbody>\n",
       "</table>\n",
       "<p>3093 rows × 10 columns</p>\n",
       "</div>"
      ],
      "text/plain": [
       "      movieId                        title  \\\n",
       "0           1                    Toy Story   \n",
       "1           2                      Jumanji   \n",
       "2           3             Grumpier Old Men   \n",
       "3           4            Waiting to Exhale   \n",
       "4           5  Father of the Bride Part II   \n",
       "...       ...                          ...   \n",
       "3088     3948             Meet the Parents   \n",
       "3089     3949          Requiem for a Dream   \n",
       "3090     3950                    Tigerland   \n",
       "3091     3951             Two Family House   \n",
       "3092     3952                The Contender   \n",
       "\n",
       "                                          genres    year titleType  \\\n",
       "0          Adventure|Children's|Comedy|Animation  1995.0     movie   \n",
       "1     Fantasy|Family|Children's|Comedy|Adventure  1995.0     movie   \n",
       "2                                 Romance|Comedy  1995.0     movie   \n",
       "3                           Romance|Drama|Comedy  1995.0     movie   \n",
       "4                          Family|Romance|Comedy  1995.0     movie   \n",
       "...                                          ...     ...       ...   \n",
       "3088                              Romance|Comedy  2000.0     movie   \n",
       "3089                                       Drama  2000.0     movie   \n",
       "3090                                   War|Drama  2000.0     movie   \n",
       "3091                        Romance|Drama|Comedy  2000.0     movie   \n",
       "3092                              Drama|Thriller  2000.0     movie   \n",
       "\n",
       "                                                  staff     tconst  \\\n",
       "0     Tim Allen, John Ratzenberger, Jim Varney, John...  tt0114709   \n",
       "1     Bonnie Hunt, Bebe Neuwirth, Adam Hann-Byrd, Ro...  tt0113497   \n",
       "2     James Andelin, Richard C. Berman, Les Brown, D...  tt0113228   \n",
       "3     Whitney Houston, Kenneth 'Babyface' Edmonds, L...  tt0114885   \n",
       "4     Rodrigo Botero, William Akey, Sam Anderson, Da...  tt0113041   \n",
       "...                                                 ...        ...   \n",
       "3088  Blythe Danner, Teri Polo, Tom Houghton, Jon Ab...  tt0212338   \n",
       "3089  Jennifer Connelly, Ellen Burstyn, Jared Leto, ...  tt0180093   \n",
       "3090  Karolyn Arnold, Arian Ash, Rhynell Brumfield, ...  tt0170691   \n",
       "3091  Jeffrey L. Baker, Sally Bonython, Adam Carr, R...  tt0202641   \n",
       "3092  Scott Shiffman, Eloise Crane Stammerjohn, Arno...  tt0208874   \n",
       "\n",
       "      title_encoded  genres_encoded  staff_encoded  \n",
       "0              2864              81           2859  \n",
       "1              1222             331            346  \n",
       "2               980             504           1245  \n",
       "3              2952             530           3025  \n",
       "4               800             303           2523  \n",
       "...             ...             ...            ...  \n",
       "3088           1434             504            326  \n",
       "3089           1833             232           1356  \n",
       "3090           2829             649           1639  \n",
       "3091           2902             530           1350  \n",
       "3092           2311             269           2633  \n",
       "\n",
       "[3093 rows x 10 columns]"
      ]
     },
     "execution_count": 95,
     "metadata": {},
     "output_type": "execute_result"
    }
   ],
   "source": [
    "enhanced_data"
   ]
  },
  {
   "cell_type": "markdown",
   "metadata": {},
   "source": [
    "Now, we will create our user-item interaction matrix for collaborative filtering. On rows are all users and in columns are all movies. If a user rated a movie, there will has a note on the table, otherwise we put a NaN"
   ]
  },
  {
   "cell_type": "code",
   "execution_count": 17,
   "metadata": {
    "execution": {
     "iopub.execute_input": "2024-07-07T21:00:32.163668Z",
     "iopub.status.busy": "2024-07-07T21:00:32.163186Z",
     "iopub.status.idle": "2024-07-07T21:00:32.499715Z",
     "shell.execute_reply": "2024-07-07T21:00:32.498482Z",
     "shell.execute_reply.started": "2024-07-07T21:00:32.163624Z"
    }
   },
   "outputs": [
    {
     "name": "stdout",
     "output_type": "stream",
     "text": [
      "movieId  1     2     3     4     5     6     7     8     9     10    ...  \\\n",
      "userId                                                               ...   \n",
      "1         5.0   NaN   NaN   NaN   NaN   NaN   NaN   NaN   NaN   NaN  ...   \n",
      "2         NaN   NaN   NaN   NaN   NaN   NaN   NaN   NaN   NaN   NaN  ...   \n",
      "3         NaN   NaN   NaN   NaN   NaN   NaN   NaN   NaN   NaN   NaN  ...   \n",
      "4         NaN   NaN   NaN   NaN   NaN   NaN   NaN   NaN   NaN   NaN  ...   \n",
      "5         NaN   NaN   NaN   NaN   NaN   2.0   NaN   NaN   NaN   NaN  ...   \n",
      "...       ...   ...   ...   ...   ...   ...   ...   ...   ...   ...  ...   \n",
      "6036      NaN   NaN   NaN   2.0   NaN   3.0   NaN   NaN   NaN   NaN  ...   \n",
      "6037      NaN   NaN   NaN   NaN   NaN   NaN   NaN   NaN   NaN   NaN  ...   \n",
      "6038      NaN   NaN   NaN   NaN   NaN   NaN   NaN   NaN   NaN   NaN  ...   \n",
      "6039      NaN   NaN   NaN   NaN   NaN   NaN   NaN   NaN   NaN   NaN  ...   \n",
      "6040      3.0   NaN   NaN   NaN   NaN   NaN   NaN   NaN   NaN   NaN  ...   \n",
      "\n",
      "movieId  3943  3944  3945  3946  3947  3948  3949  3950  3951  3952  \n",
      "userId                                                               \n",
      "1         NaN   NaN   NaN   NaN   NaN   NaN   NaN   NaN   NaN   NaN  \n",
      "2         NaN   NaN   NaN   NaN   NaN   NaN   NaN   NaN   NaN   NaN  \n",
      "3         NaN   NaN   NaN   NaN   NaN   NaN   NaN   NaN   NaN   NaN  \n",
      "4         NaN   NaN   NaN   NaN   NaN   NaN   NaN   NaN   NaN   NaN  \n",
      "5         NaN   NaN   NaN   NaN   NaN   NaN   NaN   NaN   NaN   NaN  \n",
      "...       ...   ...   ...   ...   ...   ...   ...   ...   ...   ...  \n",
      "6036      NaN   NaN   NaN   NaN   NaN   NaN   NaN   NaN   NaN   NaN  \n",
      "6037      NaN   NaN   NaN   NaN   NaN   NaN   NaN   NaN   NaN   NaN  \n",
      "6038      NaN   NaN   NaN   NaN   NaN   NaN   NaN   NaN   NaN   NaN  \n",
      "6039      NaN   NaN   NaN   NaN   NaN   NaN   NaN   NaN   NaN   NaN  \n",
      "6040      NaN   NaN   NaN   NaN   NaN   NaN   NaN   NaN   NaN   NaN  \n",
      "\n",
      "[6040 rows x 3706 columns]\n"
     ]
    }
   ],
   "source": [
    "def create_user_item_matrix(ratings):\n",
    "    user_item_matrix = ratings.pivot(index='userId', columns='movieId', values='rating')\n",
    "    return user_item_matrix\n",
    "\n",
    "user_item_matrix = create_user_item_matrix(ratings)\n",
    "print(user_item_matrix)"
   ]
  },
  {
   "cell_type": "markdown",
   "metadata": {},
   "source": [
    "Now, let's look the rating distribution :\n",
    "\n",
    "We can see the rating is centered between 3 and 4"
   ]
  },
  {
   "cell_type": "code",
   "execution_count": 18,
   "metadata": {
    "execution": {
     "iopub.execute_input": "2024-07-07T21:00:32.501268Z",
     "iopub.status.busy": "2024-07-07T21:00:32.500946Z",
     "iopub.status.idle": "2024-07-07T21:00:32.821675Z",
     "shell.execute_reply": "2024-07-07T21:00:32.820405Z",
     "shell.execute_reply.started": "2024-07-07T21:00:32.501241Z"
    }
   },
   "outputs": [
    {
     "name": "stdout",
     "output_type": "stream",
     "text": [
      "Ratings Distribution:\n",
      " rating\n",
      "1     56174\n",
      "2    107557\n",
      "3    261197\n",
      "4    348971\n",
      "5    226310\n",
      "Name: count, dtype: int64\n"
     ]
    },
    {
     "data": {
      "image/png": "[encoded data removed]",
      "text/plain": [
       "<Figure size 1000x600 with 1 Axes>"
      ]
     },
     "metadata": {},
     "output_type": "display_data"
    }
   ],
   "source": [
    "ratings_distribution = ratings['rating'].value_counts().sort_index()\n",
    "print(\"Ratings Distribution:\\n\", ratings_distribution)\n",
    "plt.figure(figsize=(10, 6))\n",
    "ratings_distribution.plot(kind='bar', color='skyblue')\n",
    "plt.title('Ratings Distribution')\n",
    "plt.xlabel('Rating')\n",
    "plt.ylabel('Frequency')\n",
    "plt.xticks(rotation=0)\n",
    "plt.show()"
   ]
  },
  {
   "cell_type": "markdown",
   "metadata": {},
   "source": [
    "Now, let's look the number of ratings per movie :\n",
    "\n",
    "We can see 1/4 of the movies have less than 10 ratings"
   ]
  },
  {
   "cell_type": "code",
   "execution_count": 19,
   "metadata": {
    "execution": {
     "iopub.execute_input": "2024-07-07T21:00:32.823744Z",
     "iopub.status.busy": "2024-07-07T21:00:32.823284Z",
     "iopub.status.idle": "2024-07-07T21:00:33.509143Z",
     "shell.execute_reply": "2024-07-07T21:00:33.507704Z",
     "shell.execute_reply.started": "2024-07-07T21:00:32.823700Z"
    }
   },
   "outputs": [
    {
     "data": {
      "image/png": "[encoded data removed]",
      "text/plain": [
       "<Figure size 1000x600 with 1 Axes>"
      ]
     },
     "metadata": {},
     "output_type": "display_data"
    }
   ],
   "source": [
    "num_ratings_per_movie = ratings.groupby('movieId').size().sort_values(ascending=False)\n",
    "plt.figure(figsize=(10, 6))\n",
    "plt.plot(num_ratings_per_movie.values, color='skyblue')\n",
    "plt.title('Number of Ratings per Movie')\n",
    "plt.xlabel('Movies')\n",
    "plt.ylabel('Number of Ratings')\n",
    "plt.yscale('log')\n",
    "plt.show()"
   ]
  },
  {
   "cell_type": "markdown",
   "metadata": {},
   "source": [
    "Now, let's look the number of ratings per user : \n",
    "\n",
    "We can see that 1/2 of users have more than 100 rated movies"
   ]
  },
  {
   "cell_type": "code",
   "execution_count": 20,
   "metadata": {
    "execution": {
     "iopub.execute_input": "2024-07-07T21:00:33.511665Z",
     "iopub.status.busy": "2024-07-07T21:00:33.511151Z",
     "iopub.status.idle": "2024-07-07T21:00:33.995020Z",
     "shell.execute_reply": "2024-07-07T21:00:33.993665Z",
     "shell.execute_reply.started": "2024-07-07T21:00:33.511620Z"
    }
   },
   "outputs": [
    {
     "data": {
      "image/png": "[encoded data removed]",
      "text/plain": [
       "<Figure size 1000x600 with 1 Axes>"
      ]
     },
     "metadata": {},
     "output_type": "display_data"
    }
   ],
   "source": [
    "num_ratings_per_user = ratings.groupby('userId').size().sort_values(ascending=False)\n",
    "plt.figure(figsize=(10, 6))\n",
    "plt.plot(num_ratings_per_user.values, color='skyblue')\n",
    "plt.title('Number of Ratings per User')\n",
    "plt.xlabel('Users')\n",
    "plt.ylabel('Number of Ratings')\n",
    "plt.yscale('log')\n",
    "plt.show()"
   ]
  },
  {
   "cell_type": "markdown",
   "metadata": {},
   "source": [
    "We want now to implement a recommender system to predict the rating of a movie by a couple of users. To do that, we will use ALS Matrix Factorisation. As we saw on lesson, this method is popular for collaborative filtering, and can handle large dataset. It's a good method used by companies such as Amazon,... so i wanted to use it. The pros are that he is efficient for large dataset, can handle missing data and generalize well. The cons are that he struggle with the cold start problem and has bias to popular."
   ]
  },
  {
   "cell_type": "code",
   "execution_count": 21,
   "metadata": {
    "execution": {
     "iopub.execute_input": "2024-07-07T21:00:33.996851Z",
     "iopub.status.busy": "2024-07-07T21:00:33.996461Z",
     "iopub.status.idle": "2024-07-07T21:00:39.285986Z",
     "shell.execute_reply": "2024-07-07T21:00:39.284564Z",
     "shell.execute_reply.started": "2024-07-07T21:00:33.996811Z"
    }
   },
   "outputs": [
    {
     "name": "stderr",
     "output_type": "stream",
     "text": [
      "Setting default log level to \"WARN\".\n",
      "To adjust logging level use sc.setLogLevel(newLevel). For SparkR, use setLogLevel(newLevel).\n",
      "24/07/07 21:00:37 WARN NativeCodeLoader: Unable to load native-hadoop library for your platform... using builtin-java classes where applicable\n"
     ]
    }
   ],
   "source": [
    "spark = SparkSession.builder.appName(\"MovieRecommender\").getOrCreate()"
   ]
  },
  {
   "cell_type": "markdown",
   "metadata": {},
   "source": [
    "We create a spark Dataset to use it"
   ]
  },
  {
   "cell_type": "code",
   "execution_count": 22,
   "metadata": {
    "execution": {
     "iopub.execute_input": "2024-07-07T21:00:39.288182Z",
     "iopub.status.busy": "2024-07-07T21:00:39.287774Z",
     "iopub.status.idle": "2024-07-07T21:01:15.316156Z",
     "shell.execute_reply": "2024-07-07T21:01:15.314778Z",
     "shell.execute_reply.started": "2024-07-07T21:00:39.288144Z"
    }
   },
   "outputs": [],
   "source": [
    "ratings_spark = spark.createDataFrame(ratings)"
   ]
  },
  {
   "cell_type": "markdown",
   "metadata": {},
   "source": [
    "I choose to split training and test to 80%, it's basically what i always do"
   ]
  },
  {
   "cell_type": "code",
   "execution_count": 23,
   "metadata": {
    "execution": {
     "iopub.execute_input": "2024-07-07T21:01:15.318346Z",
     "iopub.status.busy": "2024-07-07T21:01:15.317903Z",
     "iopub.status.idle": "2024-07-07T21:01:15.424262Z",
     "shell.execute_reply": "2024-07-07T21:01:15.422880Z",
     "shell.execute_reply.started": "2024-07-07T21:01:15.318305Z"
    }
   },
   "outputs": [],
   "source": [
    "(training, test) = ratings_spark.randomSplit([0.8, 0.2], seed=42)"
   ]
  },
  {
   "cell_type": "markdown",
   "metadata": {},
   "source": [
    "I create the ALS Model"
   ]
  },
  {
   "cell_type": "code",
   "execution_count": 24,
   "metadata": {
    "execution": {
     "iopub.execute_input": "2024-07-07T21:01:15.426523Z",
     "iopub.status.busy": "2024-07-07T21:01:15.426034Z",
     "iopub.status.idle": "2024-07-07T21:01:42.826297Z",
     "shell.execute_reply": "2024-07-07T21:01:42.824468Z",
     "shell.execute_reply.started": "2024-07-07T21:01:15.426475Z"
    }
   },
   "outputs": [
    {
     "name": "stderr",
     "output_type": "stream",
     "text": [
      "24/07/07 21:01:17 WARN TaskSetManager: Stage 0 contains a task of very large size (2400 KiB). The maximum recommended task size is 1000 KiB.\n",
      "24/07/07 21:01:21 WARN TaskSetManager: Stage 1 contains a task of very large size (2400 KiB). The maximum recommended task size is 1000 KiB.\n",
      "24/07/07 21:01:30 WARN InstanceBuilder: Failed to load implementation from:dev.ludovic.netlib.blas.JNIBLAS\n",
      "                                                                                \r"
     ]
    }
   ],
   "source": [
    "als = ALS(userCol=\"userId\", itemCol=\"movieId\", ratingCol=\"rating\", \n",
    "          nonnegative=True, implicitPrefs=False, coldStartStrategy=\"drop\")\n",
    "model2 = als.fit(training)"
   ]
  },
  {
   "cell_type": "markdown",
   "metadata": {},
   "source": [
    "I wanted to do a HyperParameter Tuning but it don't work (i think i have to divide the dataset)"
   ]
  },
  {
   "cell_type": "code",
   "execution_count": 25,
   "metadata": {
    "execution": {
     "iopub.execute_input": "2024-07-07T21:01:42.829973Z",
     "iopub.status.busy": "2024-07-07T21:01:42.828940Z",
     "iopub.status.idle": "2024-07-07T21:01:42.836508Z",
     "shell.execute_reply": "2024-07-07T21:01:42.835223Z",
     "shell.execute_reply.started": "2024-07-07T21:01:42.829919Z"
    }
   },
   "outputs": [],
   "source": [
    "#param_grid = ParamGridBuilder() \\\n",
    " #   .addGrid(als.rank, [10, 20, 30]) \\\n",
    "  #  .addGrid(als.maxIter, [10, 20]) \\\n",
    "   # .addGrid(als.regParam, [0.01, 0.1, 0.2]) \\\n",
    "    #.build()\n",
    "#evaluator = RegressionEvaluator(metricName=\"rmse\", labelCol=\"rating\", predictionCol=\"prediction\")\n",
    "#crossval = CrossValidator(estimator=als, estimatorParamMaps=param_grid, evaluator=evaluator, numFolds=3)\n",
    "#cv_model = crossval.fit(training)\n",
    "#best_model = cv_model.bestModel"
   ]
  },
  {
   "cell_type": "code",
   "execution_count": 26,
   "metadata": {
    "execution": {
     "iopub.execute_input": "2024-07-07T21:01:42.840700Z",
     "iopub.status.busy": "2024-07-07T21:01:42.839354Z",
     "iopub.status.idle": "2024-07-07T21:01:43.046443Z",
     "shell.execute_reply": "2024-07-07T21:01:43.045123Z",
     "shell.execute_reply.started": "2024-07-07T21:01:42.840647Z"
    }
   },
   "outputs": [],
   "source": [
    "predictions = model2.transform(test)"
   ]
  },
  {
   "cell_type": "markdown",
   "metadata": {},
   "source": [
    "Let see our prediction"
   ]
  },
  {
   "cell_type": "code",
   "execution_count": 27,
   "metadata": {
    "execution": {
     "iopub.execute_input": "2024-07-07T21:01:43.048375Z",
     "iopub.status.busy": "2024-07-07T21:01:43.047821Z",
     "iopub.status.idle": "2024-07-07T21:01:47.344398Z",
     "shell.execute_reply": "2024-07-07T21:01:47.343056Z",
     "shell.execute_reply.started": "2024-07-07T21:01:43.048318Z"
    }
   },
   "outputs": [
    {
     "name": "stderr",
     "output_type": "stream",
     "text": [
      "24/07/07 21:01:43 WARN TaskSetManager: Stage 54 contains a task of very large size (2400 KiB). The maximum recommended task size is 1000 KiB.\n",
      "                                                                                \r"
     ]
    },
    {
     "name": "stdout",
     "output_type": "stream",
     "text": [
      "For user 2 and movie 1537\n",
      "Real rating is 4 predicted rating is 3.82.\n",
      "\n",
      "For user 4 and movie 1210\n",
      "Real rating is 3 predicted rating is 3.82.\n",
      "\n",
      "For user 2 and movie 1247\n",
      "Real rating is 5 predicted rating is 3.83.\n",
      "\n",
      "For user 2 and movie 1968\n",
      "Real rating is 2 predicted rating is 3.72.\n",
      "\n",
      "For user 2 and movie 3256\n",
      "Real rating is 2 predicted rating is 3.80.\n",
      "\n",
      "For user 2 and movie 3068\n",
      "Real rating is 4 predicted rating is 3.59.\n",
      "\n",
      "For user 2 and movie 1957\n",
      "Real rating is 5 predicted rating is 3.70.\n",
      "\n",
      "For user 2 and movie 648\n",
      "Real rating is 4 predicted rating is 3.37.\n",
      "\n",
      "For user 2 and movie 1690\n",
      "Real rating is 3 predicted rating is 2.78.\n",
      "\n",
      "For user 2 and movie 2728\n",
      "Real rating is 3 predicted rating is 3.74.\n",
      "\n",
      "For user 2 and movie 459\n",
      "Real rating is 3 predicted rating is 2.82.\n",
      "\n",
      "For user 2 and movie 1610\n",
      "Real rating is 5 predicted rating is 4.02.\n",
      "\n",
      "For user 2 and movie 1687\n",
      "Real rating is 3 predicted rating is 3.02.\n",
      "\n",
      "For user 2 and movie 110\n",
      "Real rating is 5 predicted rating is 4.23.\n",
      "\n",
      "For user 2 and movie 3418\n",
      "Real rating is 4 predicted rating is 3.48.\n",
      "\n",
      "For user 2 and movie 349\n",
      "Real rating is 4 predicted rating is 3.71.\n",
      "\n",
      "For user 2 and movie 3107\n",
      "Real rating is 2 predicted rating is 3.52.\n",
      "\n"
     ]
    }
   ],
   "source": [
    "example_predictions = predictions.select('userId', 'movieId', 'rating', 'prediction').filter((col('userId') == 2) | (col('userId') == 4))\n",
    "example_predictions_list = example_predictions.collect()\n",
    "\n",
    "for row in example_predictions_list:\n",
    "    print(f\"For user {row['userId']} and movie {row['movieId']}\")\n",
    "    print(f\"Real rating is {row['rating']} predicted rating is {row['prediction']:.2f}.\\n\")"
   ]
  },
  {
   "cell_type": "markdown",
   "metadata": {},
   "source": [
    "Let's see when we round the prediction"
   ]
  },
  {
   "cell_type": "code",
   "execution_count": 28,
   "metadata": {
    "execution": {
     "iopub.execute_input": "2024-07-07T21:01:47.354504Z",
     "iopub.status.busy": "2024-07-07T21:01:47.353342Z",
     "iopub.status.idle": "2024-07-07T21:01:51.839729Z",
     "shell.execute_reply": "2024-07-07T21:01:51.838458Z",
     "shell.execute_reply.started": "2024-07-07T21:01:47.354450Z"
    }
   },
   "outputs": [
    {
     "name": "stderr",
     "output_type": "stream",
     "text": [
      "24/07/07 21:01:47 WARN TaskSetManager: Stage 135 contains a task of very large size (2400 KiB). The maximum recommended task size is 1000 KiB.\n",
      "[Stage 215:>                                                        (0 + 1) / 1]\r"
     ]
    },
    {
     "name": "stdout",
     "output_type": "stream",
     "text": [
      "For user 2 and movie 1537\n",
      "Real rating is 4 predicted rating is 4.\n",
      "\n",
      "For user 4 and movie 1210\n",
      "Real rating is 3 predicted rating is 4.\n",
      "\n",
      "For user 2 and movie 1247\n",
      "Real rating is 5 predicted rating is 4.\n",
      "\n",
      "For user 2 and movie 1968\n",
      "Real rating is 2 predicted rating is 4.\n",
      "\n",
      "For user 2 and movie 3256\n",
      "Real rating is 2 predicted rating is 4.\n",
      "\n",
      "For user 2 and movie 3068\n",
      "Real rating is 4 predicted rating is 4.\n",
      "\n",
      "For user 2 and movie 1957\n",
      "Real rating is 5 predicted rating is 4.\n",
      "\n",
      "For user 2 and movie 648\n",
      "Real rating is 4 predicted rating is 3.\n",
      "\n",
      "For user 2 and movie 1690\n",
      "Real rating is 3 predicted rating is 3.\n",
      "\n",
      "For user 2 and movie 2728\n",
      "Real rating is 3 predicted rating is 4.\n",
      "\n",
      "For user 2 and movie 459\n",
      "Real rating is 3 predicted rating is 3.\n",
      "\n",
      "For user 2 and movie 1610\n",
      "Real rating is 5 predicted rating is 4.\n",
      "\n",
      "For user 2 and movie 1687\n",
      "Real rating is 3 predicted rating is 3.\n",
      "\n",
      "For user 2 and movie 110\n",
      "Real rating is 5 predicted rating is 4.\n",
      "\n",
      "For user 2 and movie 3418\n",
      "Real rating is 4 predicted rating is 3.\n",
      "\n",
      "For user 2 and movie 349\n",
      "Real rating is 4 predicted rating is 4.\n",
      "\n",
      "For user 2 and movie 3107\n",
      "Real rating is 2 predicted rating is 4.\n",
      "\n"
     ]
    },
    {
     "name": "stderr",
     "output_type": "stream",
     "text": [
      "                                                                                \r"
     ]
    }
   ],
   "source": [
    "def custom_round(rating):\n",
    "    if rating - int(rating) >= 0.5:\n",
    "        return int(rating) + 1\n",
    "    else:\n",
    "        return int(rating)\n",
    "\n",
    "round_udf = udf(custom_round, IntegerType())\n",
    "predictions_with_rounded = predictions.withColumn('rounded_prediction', round_udf(col('prediction')))\n",
    "example_predictions2 = predictions_with_rounded.select('userId', 'movieId', 'rating', 'rounded_prediction').filter((col('userId') == 2) | (col('userId') == 4))\n",
    "example_predictions_list2 = example_predictions2.collect()\n",
    "\n",
    "for row in example_predictions_list2:\n",
    "    print(f\"For user {row['userId']} and movie {row['movieId']}\")\n",
    "    print(f\"Real rating is {row['rating']} predicted rating is {row['rounded_prediction']}.\\n\")"
   ]
  },
  {
   "cell_type": "markdown",
   "metadata": {},
   "source": [
    "Here our evaluator. I choosed to use RMSE and MAE :\n",
    "- For MAE (Mean Absolute Error), we have a value of 0.70, which mean that when we predict a rating to 3, in average the model predict note is between +0.70 or -0.70.\n",
    "- But i also choose MSE (Mean Squared Error) because using MSE penalizes larges errors (because of the square) so i'ts more strict than MAE, that why it's a different value (and a bigger)"
   ]
  },
  {
   "cell_type": "code",
   "execution_count": 29,
   "metadata": {
    "execution": {
     "iopub.execute_input": "2024-07-07T21:01:51.842772Z",
     "iopub.status.busy": "2024-07-07T21:01:51.841898Z",
     "iopub.status.idle": "2024-07-07T21:01:58.788533Z",
     "shell.execute_reply": "2024-07-07T21:01:58.787282Z",
     "shell.execute_reply.started": "2024-07-07T21:01:51.842725Z"
    }
   },
   "outputs": [
    {
     "name": "stderr",
     "output_type": "stream",
     "text": [
      "24/07/07 21:01:52 WARN TaskSetManager: Stage 216 contains a task of very large size (2400 KiB). The maximum recommended task size is 1000 KiB.\n",
      "24/07/07 21:01:55 WARN TaskSetManager: Stage 271 contains a task of very large size (2400 KiB). The maximum recommended task size is 1000 KiB.\n",
      "                                                                                \r"
     ]
    },
    {
     "name": "stdout",
     "output_type": "stream",
     "text": [
      "RMSE: 0.8734955260841885\n",
      "MAE: 0.7003659319146557\n"
     ]
    },
    {
     "name": "stderr",
     "output_type": "stream",
     "text": [
      "                                                                                \r"
     ]
    }
   ],
   "source": [
    "evaluator_rmse = RegressionEvaluator(metricName=\"rmse\", labelCol=\"rating\", predictionCol=\"prediction\")\n",
    "evaluator_mae = RegressionEvaluator(metricName=\"mae\", labelCol=\"rating\", predictionCol=\"prediction\")\n",
    "rmse = evaluator_rmse.evaluate(predictions)\n",
    "mae = evaluator_mae.evaluate(predictions)\n",
    "print(f\"RMSE: {rmse}\")\n",
    "print(f\"MAE: {mae}\")"
   ]
  },
  {
   "cell_type": "markdown",
   "metadata": {},
   "source": [
    "Here, i wrote 2 functions\n",
    "- Get_predicted_rating which predict a rating for a movie for a specific user\n",
    "- Get_couple_predicted_rating which predict a rating for a movie for 2 persons and do the average of the rating"
   ]
  },
  {
   "cell_type": "code",
   "execution_count": 30,
   "metadata": {
    "execution": {
     "iopub.execute_input": "2024-07-07T21:01:58.790394Z",
     "iopub.status.busy": "2024-07-07T21:01:58.790029Z",
     "iopub.status.idle": "2024-07-07T21:01:58.861126Z",
     "shell.execute_reply": "2024-07-07T21:01:58.859684Z",
     "shell.execute_reply.started": "2024-07-07T21:01:58.790363Z"
    }
   },
   "outputs": [
    {
     "name": "stdout",
     "output_type": "stream",
     "text": [
      "DataFrame[userId: bigint, movieId: bigint]\n"
     ]
    }
   ],
   "source": [
    "def get_predicted_rating(user_id, movie_id, model):\n",
    "    user_movie_pair = spark.createDataFrame([(user_id, movie_id)], [\"userId\", \"movieId\"])\n",
    "    prediction = model2.transform(user_movie_pair).collect()[0][2]\n",
    "    return prediction\n",
    "\n",
    "def get_couple_predicted_rating(user1_id, user2_id, movie_id, model):\n",
    "    rating_user1 = get_predicted_rating(user1_id, movie_id, model)\n",
    "    rating_user2 = get_predicted_rating(user2_id, movie_id, model)\n",
    "    couple_rating = (rating_user1 + rating_user2) / 2\n",
    "    return couple_rating\n",
    "\n",
    "def get_couple_predicted_rating2(user1_id, user2_id, movie_id, model):\n",
    "    user_movie_pair = spark.createDataFrame([(user1_id, movie_id)], [\"userId\", \"movieId\"])\n",
    "    user_movie_pair2 = spark.createDataFrame([(user2_id, movie_id)], [\"userId\", \"movieId\"])\n",
    "    print(user_movie_pair)\n",
    "    \n",
    "get_couple_predicted_rating2(1, 2, 52, model2)"
   ]
  },
  {
   "cell_type": "code",
   "execution_count": 31,
   "metadata": {
    "execution": {
     "iopub.execute_input": "2024-07-07T21:01:58.863656Z",
     "iopub.status.busy": "2024-07-07T21:01:58.863146Z",
     "iopub.status.idle": "2024-07-07T21:02:05.124743Z",
     "shell.execute_reply": "2024-07-07T21:02:05.122835Z",
     "shell.execute_reply.started": "2024-07-07T21:01:58.863598Z"
    }
   },
   "outputs": [
    {
     "name": "stdout",
     "output_type": "stream",
     "text": [
      "userId         2\n",
      "gender         M\n",
      "age           56\n",
      "occupation    16\n",
      "Name: 1, dtype: object\n"
     ]
    },
    {
     "name": "stderr",
     "output_type": "stream",
     "text": [
      "                                                                                \r"
     ]
    },
    {
     "name": "stdout",
     "output_type": "stream",
     "text": [
      "Predicted rating for user 1 and movie 52: 3.4543097019195557\n",
      "Predicted rating for user 2 and movie 52: 3.2565741539001465\n",
      "Predicted rating for the couple (user 1 and user 2) and movie 52: 3.355441927909851\n"
     ]
    }
   ],
   "source": [
    "user1_id = 1\n",
    "print(users.loc[1])\n",
    "user2_id = 2\n",
    "movie_id = 52\n",
    "\n",
    "predicted_rating_user1 = get_predicted_rating(user1_id, movie_id, model2)\n",
    "predicted_rating_user2 = get_predicted_rating(user2_id, movie_id, model2)\n",
    "predicted_rating_couple = get_couple_predicted_rating(user1_id, user2_id, movie_id, model2)\n",
    "\n",
    "print(f\"Predicted rating for user {user1_id} and movie {movie_id}: {predicted_rating_user1}\")\n",
    "print(f\"Predicted rating for user {user2_id} and movie {movie_id}: {predicted_rating_user2}\")\n",
    "print(f\"Predicted rating for the couple (user {user1_id} and user {user2_id}) and movie {movie_id}: {predicted_rating_couple}\")"
   ]
  },
  {
   "cell_type": "markdown",
   "metadata": {},
   "source": [
    "So we have a recommender system algorithm which predict the rating of a movie by a couple of users. And is prediction of the rating varied between -0.7 and +0.7 points"
   ]
  },
  {
   "cell_type": "markdown",
   "metadata": {},
   "source": [
    "Now, we want to develop an algorithm to suggest one movie that might be liked by the couple of users"
   ]
  },
  {
   "cell_type": "markdown",
   "metadata": {},
   "source": [
    "I choosed to do a Neural Network Encoder. I tried to do first the TransformerEncoding because for me its a new method with better result and prediction,... but i didn't manage to do it so i choose the 2nd choice the Neural Network Encoding"
   ]
  },
  {
   "cell_type": "markdown",
   "metadata": {},
   "source": [
    "First we have to encode the features : using LabelEncoding, we transform all into numerical values for our neural network.\n",
    "Aftter, we add the features transformed to the rating dataset\n",
    "I choose to split training and test to 80%, it's basically what i always do"
   ]
  },
  {
   "cell_type": "code",
   "execution_count": 112,
   "metadata": {
    "execution": {
     "iopub.execute_input": "2024-07-07T21:40:59.524862Z",
     "iopub.status.busy": "2024-07-07T21:40:59.523871Z",
     "iopub.status.idle": "2024-07-07T21:41:00.303568Z",
     "shell.execute_reply": "2024-07-07T21:41:00.302015Z",
     "shell.execute_reply.started": "2024-07-07T21:40:59.524822Z"
    }
   },
   "outputs": [],
   "source": [
    "title = LabelEncoder()\n",
    "enhanced_data.loc[:, 'title_encoded'] = title.fit_transform(enhanced_data['title'])\n",
    "genres = LabelEncoder()\n",
    "enhanced_data.loc[:, 'genres_encoded'] = genres.fit_transform(enhanced_data['genres'])\n",
    "staff = LabelEncoder()\n",
    "enhanced_data.loc[:, 'staff_encoded'] = staff.fit_transform(enhanced_data['staff'])\n",
    "\n",
    "ratings = ratings.merge(enhanced_data[['movieId', 'title_encoded', 'genres_encoded', 'staff_encoded']],\n",
    "                        on='movieId', how='left', suffixes=('', '_enhanced'))\n",
    "\n",
    "ratings = ratings.drop_duplicates(subset=['userId', 'movieId'])\n",
    "\n",
    "user_movie_matrix = ratings.pivot(index='userId', columns='movieId', values='rating')\n",
    "user_movie_matrix.fillna(0, inplace=True)\n",
    "\n",
    "train_matrix, test_matrix = train_test_split(user_movie_matrix, test_size=0.2, random_state=42)\n",
    "\n",
    "num_users = ratings['userId'].max()\n",
    "num_movies = ratings['movieId'].max()\n",
    "num_titles = enhanced_data['title_encoded'].max()\n",
    "num_genres = enhanced_data['genres_encoded'].max()\n",
    "num_staff = enhanced_data['staff_encoded'].max()"
   ]
  },
  {
   "cell_type": "code",
   "execution_count": 113,
   "metadata": {
    "execution": {
     "iopub.execute_input": "2024-07-07T21:41:02.998992Z",
     "iopub.status.busy": "2024-07-07T21:41:02.997952Z",
     "iopub.status.idle": "2024-07-07T21:41:03.012398Z",
     "shell.execute_reply": "2024-07-07T21:41:03.011039Z",
     "shell.execute_reply.started": "2024-07-07T21:41:02.998941Z"
    }
   },
   "outputs": [
    {
     "name": "stdout",
     "output_type": "stream",
     "text": [
      "         userId  movieId  rating  title_encoded  genres_encoded  staff_encoded\n",
      "0             1     1193       5         1636.0           232.0         1234.0\n",
      "1             1      661       3         1195.0           106.0          620.0\n",
      "2             1      914       3         1534.0           542.0          236.0\n",
      "3             1     3408       4          749.0           124.0         1606.0\n",
      "4             1     2355       5           22.0            81.0          702.0\n",
      "...         ...      ...     ...            ...             ...            ...\n",
      "1005292    6040     1091       1         2966.0           190.0          142.0\n",
      "1005293    6040     1094       5         2325.0           593.0         1318.0\n",
      "1005294    6040      562       5         2968.0           239.0         1144.0\n",
      "1005295    6040     1096       4         2039.0           527.0         2025.0\n",
      "1005296    6040     1097       4          720.0           324.0          905.0\n",
      "\n",
      "[1000209 rows x 6 columns]\n"
     ]
    }
   ],
   "source": [
    "print(ratings2)"
   ]
  },
  {
   "cell_type": "code",
   "execution_count": 110,
   "metadata": {
    "execution": {
     "iopub.execute_input": "2024-07-07T21:38:47.422633Z",
     "iopub.status.busy": "2024-07-07T21:38:47.422085Z",
     "iopub.status.idle": "2024-07-07T21:38:47.458297Z",
     "shell.execute_reply": "2024-07-07T21:38:47.456881Z",
     "shell.execute_reply.started": "2024-07-07T21:38:47.422595Z"
    }
   },
   "outputs": [
    {
     "name": "stdout",
     "output_type": "stream",
     "text": [
      "6040\n",
      "3952\n",
      "3040.0\n",
      "667.0\n",
      "3086.0\n"
     ]
    }
   ],
   "source": [
    "num_users = ratings2['userId'].max()\n",
    "num_movies = ratings2['movieId'].max()\n",
    "num_titles = ratings2['title_encoded'].max()\n",
    "num_genres = ratings2['genres_encoded'].max()\n",
    "num_staff = ratings2['staff_encoded'].max()\n",
    "\n",
    "print(num_users)\n",
    "print(num_movies)dd\n",
    "print(num_titles)\n",
    "print(num_genres)\n",
    "print(num_staff)"
   ]
  },
  {
   "cell_type": "markdown",
   "metadata": {},
   "source": [
    "So here the Neural Network : \n",
    "- We create a embedding layers for all informations we want to use : userId, movieId, title, genres and staff (so 1D vector)\n",
    "- We concatenate all embeddings\n",
    "- We applies multiple Dense layers using Relu \n",
    "\n",
    "So i did a basic model\n",
    "\n",
    "After, we compile our model and we will use the MSE Loss for the loss function and we will use the Adam optimizer for our Neural Network"
   ]
  },
  {
   "cell_type": "code",
   "execution_count": 114,
   "metadata": {
    "execution": {
     "iopub.execute_input": "2024-07-07T21:41:18.003132Z",
     "iopub.status.busy": "2024-07-07T21:41:18.002714Z",
     "iopub.status.idle": "2024-07-07T21:41:18.028098Z",
     "shell.execute_reply": "2024-07-07T21:41:18.026874Z",
     "shell.execute_reply.started": "2024-07-07T21:41:18.003102Z"
    }
   },
   "outputs": [],
   "source": [
    "class MovieFeaturesNN(nn.Module):\n",
    "    def __init__(self, num_users, num_movies, num_titles, num_genres, num_staff, embedding_size=50):\n",
    "        super(MovieFeaturesNN, self).__init__()\n",
    "        self.user_embedding = nn.Embedding(num_users + 1, embedding_size)\n",
    "        self.movie_embedding = nn.Embedding(num_movies + 1, embedding_size)\n",
    "        self.title_embedding = nn.Embedding(num_titles + 1, embedding_size)\n",
    "        self.genres_embedding = nn.Embedding(num_genres + 1, embedding_size)\n",
    "        self.staff_embedding = nn.Embedding(num_staff + 1, embedding_size)\n",
    "        \n",
    "        combined_embedding_size = embedding_size * 5\n",
    "        self.fc1 = nn.Linear(combined_embedding_size, 128)\n",
    "        self.fc2 = nn.Linear(128, 64)\n",
    "        self.fc3 = nn.Linear(64, 1)\n",
    "\n",
    "    def forward(self, user_ids, movie_ids, title_ids, genre_ids, staff_ids):\n",
    "        user_embeds = self.user_embedding(user_ids)\n",
    "        movie_embeds = self.movie_embedding(movie_ids)\n",
    "        title_embeds = self.title_embedding(title_ids)\n",
    "        genres_embeds = self.genres_embedding(genre_ids)\n",
    "        staff_embeds = self.staff_embedding(staff_ids)\n",
    "        \n",
    "        x = torch.cat([user_embeds, movie_embeds, title_embeds, genres_embeds, staff_embeds], dim=1)\n",
    "        x = torch.relu(self.fc1(x))\n",
    "        x = torch.relu(self.fc2(x))\n",
    "        x = self.fc3(x)\n",
    "        return x\n",
    "\n",
    "model = MovieFeaturesNN(num_users, num_movies, num_titles, num_genres, num_staff)\n",
    "criterion = nn.MSELoss()\n",
    "optimizer = optim.Adam(model.parameters(), lr=0.001)\n"
   ]
  },
  {
   "cell_type": "markdown",
   "metadata": {},
   "source": [
    "TO train our model, we will use batch processing to train better our neural network. "
   ]
  },
  {
   "cell_type": "markdown",
   "metadata": {},
   "source": [
    "# WARNING"
   ]
  },
  {
   "cell_type": "markdown",
   "metadata": {},
   "source": [
    "I don't know why, but my model doesn't work anymore. I had tested it multiple times and it worked, but when i did a Restart and clear all output, and did a Run All, it doesn't worked anymore. When i evaluated my model with thr RMSE below, i get a value of 0.90, and my loss was around 0.012 after 5 epochs"
   ]
  },
  {
   "cell_type": "code",
   "execution_count": 115,
   "metadata": {
    "execution": {
     "iopub.execute_input": "2024-07-07T21:41:27.669020Z",
     "iopub.status.busy": "2024-07-07T21:41:27.668436Z",
     "iopub.status.idle": "2024-07-07T21:41:27.926772Z",
     "shell.execute_reply": "2024-07-07T21:41:27.924472Z",
     "shell.execute_reply.started": "2024-07-07T21:41:27.668973Z"
    }
   },
   "outputs": [
    {
     "name": "stdout",
     "output_type": "stream",
     "text": [
      "Batch 1 - Max user_id: 2, Max movie_id: 3468, Max title_id: 2865, Max genre_id: 630, Max staff_id: 3062\n"
     ]
    },
    {
     "ename": "IndexError",
     "evalue": "index out of range in self",
     "output_type": "error",
     "traceback": [
      "\u001b[0;31m---------------------------------------------------------------------------\u001b[0m",
      "\u001b[0;31mIndexError\u001b[0m                                Traceback (most recent call last)",
      "Cell \u001b[0;32mIn[115], line 38\u001b[0m\n\u001b[1;32m     35\u001b[0m         \u001b[38;5;28mprint\u001b[39m(\u001b[38;5;124mf\u001b[39m\u001b[38;5;124m\"\u001b[39m\u001b[38;5;124mEpoch \u001b[39m\u001b[38;5;132;01m{\u001b[39;00mepoch\u001b[38;5;241m+\u001b[39m\u001b[38;5;241m1\u001b[39m\u001b[38;5;132;01m}\u001b[39;00m\u001b[38;5;124m/\u001b[39m\u001b[38;5;132;01m{\u001b[39;00mnum_epochs\u001b[38;5;132;01m}\u001b[39;00m\u001b[38;5;124m, Loss: \u001b[39m\u001b[38;5;132;01m{\u001b[39;00mepoch_loss\u001b[38;5;241m/\u001b[39m\u001b[38;5;28mlen\u001b[39m(ratings)\u001b[38;5;132;01m}\u001b[39;00m\u001b[38;5;124m\"\u001b[39m)\n\u001b[1;32m     37\u001b[0m \u001b[38;5;66;03m# Assuming ratings DataFrame is already defined\u001b[39;00m\n\u001b[0;32m---> 38\u001b[0m \u001b[43mtrain_model\u001b[49m\u001b[43m(\u001b[49m\u001b[43mmodel\u001b[49m\u001b[43m,\u001b[49m\u001b[43m \u001b[49m\u001b[43mratings\u001b[49m\u001b[43m)\u001b[49m\n",
      "Cell \u001b[0;32mIn[115], line 30\u001b[0m, in \u001b[0;36mtrain_model\u001b[0;34m(model, ratings, num_epochs, batch_size)\u001b[0m\n\u001b[1;32m     27\u001b[0m     \u001b[38;5;28;01mraise\u001b[39;00m \u001b[38;5;167;01mValueError\u001b[39;00m(\u001b[38;5;124m\"\u001b[39m\u001b[38;5;124mIndex out of range detected in the batch\u001b[39m\u001b[38;5;124m\"\u001b[39m)\n\u001b[1;32m     29\u001b[0m optimizer\u001b[38;5;241m.\u001b[39mzero_grad()\n\u001b[0;32m---> 30\u001b[0m outputs \u001b[38;5;241m=\u001b[39m \u001b[43mmodel\u001b[49m\u001b[43m(\u001b[49m\u001b[43muser_ids\u001b[49m\u001b[43m,\u001b[49m\u001b[43m \u001b[49m\u001b[43mmovie_ids\u001b[49m\u001b[43m,\u001b[49m\u001b[43m \u001b[49m\u001b[43mtitle_ids\u001b[49m\u001b[43m,\u001b[49m\u001b[43m \u001b[49m\u001b[43mgenre_ids\u001b[49m\u001b[43m,\u001b[49m\u001b[43m \u001b[49m\u001b[43mstaff_ids\u001b[49m\u001b[43m)\u001b[49m\u001b[38;5;241m.\u001b[39msqueeze()\n\u001b[1;32m     31\u001b[0m loss \u001b[38;5;241m=\u001b[39m criterion(outputs, ratings_tensor)\n\u001b[1;32m     32\u001b[0m loss\u001b[38;5;241m.\u001b[39mbackward()\n",
      "File \u001b[0;32m/opt/conda/lib/python3.10/site-packages/torch/nn/modules/module.py:1518\u001b[0m, in \u001b[0;36mModule._wrapped_call_impl\u001b[0;34m(self, *args, **kwargs)\u001b[0m\n\u001b[1;32m   1516\u001b[0m     \u001b[38;5;28;01mreturn\u001b[39;00m \u001b[38;5;28mself\u001b[39m\u001b[38;5;241m.\u001b[39m_compiled_call_impl(\u001b[38;5;241m*\u001b[39margs, \u001b[38;5;241m*\u001b[39m\u001b[38;5;241m*\u001b[39mkwargs)  \u001b[38;5;66;03m# type: ignore[misc]\u001b[39;00m\n\u001b[1;32m   1517\u001b[0m \u001b[38;5;28;01melse\u001b[39;00m:\n\u001b[0;32m-> 1518\u001b[0m     \u001b[38;5;28;01mreturn\u001b[39;00m \u001b[38;5;28;43mself\u001b[39;49m\u001b[38;5;241;43m.\u001b[39;49m\u001b[43m_call_impl\u001b[49m\u001b[43m(\u001b[49m\u001b[38;5;241;43m*\u001b[39;49m\u001b[43margs\u001b[49m\u001b[43m,\u001b[49m\u001b[43m \u001b[49m\u001b[38;5;241;43m*\u001b[39;49m\u001b[38;5;241;43m*\u001b[39;49m\u001b[43mkwargs\u001b[49m\u001b[43m)\u001b[49m\n",
      "File \u001b[0;32m/opt/conda/lib/python3.10/site-packages/torch/nn/modules/module.py:1527\u001b[0m, in \u001b[0;36mModule._call_impl\u001b[0;34m(self, *args, **kwargs)\u001b[0m\n\u001b[1;32m   1522\u001b[0m \u001b[38;5;66;03m# If we don't have any hooks, we want to skip the rest of the logic in\u001b[39;00m\n\u001b[1;32m   1523\u001b[0m \u001b[38;5;66;03m# this function, and just call forward.\u001b[39;00m\n\u001b[1;32m   1524\u001b[0m \u001b[38;5;28;01mif\u001b[39;00m \u001b[38;5;129;01mnot\u001b[39;00m (\u001b[38;5;28mself\u001b[39m\u001b[38;5;241m.\u001b[39m_backward_hooks \u001b[38;5;129;01mor\u001b[39;00m \u001b[38;5;28mself\u001b[39m\u001b[38;5;241m.\u001b[39m_backward_pre_hooks \u001b[38;5;129;01mor\u001b[39;00m \u001b[38;5;28mself\u001b[39m\u001b[38;5;241m.\u001b[39m_forward_hooks \u001b[38;5;129;01mor\u001b[39;00m \u001b[38;5;28mself\u001b[39m\u001b[38;5;241m.\u001b[39m_forward_pre_hooks\n\u001b[1;32m   1525\u001b[0m         \u001b[38;5;129;01mor\u001b[39;00m _global_backward_pre_hooks \u001b[38;5;129;01mor\u001b[39;00m _global_backward_hooks\n\u001b[1;32m   1526\u001b[0m         \u001b[38;5;129;01mor\u001b[39;00m _global_forward_hooks \u001b[38;5;129;01mor\u001b[39;00m _global_forward_pre_hooks):\n\u001b[0;32m-> 1527\u001b[0m     \u001b[38;5;28;01mreturn\u001b[39;00m \u001b[43mforward_call\u001b[49m\u001b[43m(\u001b[49m\u001b[38;5;241;43m*\u001b[39;49m\u001b[43margs\u001b[49m\u001b[43m,\u001b[49m\u001b[43m \u001b[49m\u001b[38;5;241;43m*\u001b[39;49m\u001b[38;5;241;43m*\u001b[39;49m\u001b[43mkwargs\u001b[49m\u001b[43m)\u001b[49m\n\u001b[1;32m   1529\u001b[0m \u001b[38;5;28;01mtry\u001b[39;00m:\n\u001b[1;32m   1530\u001b[0m     result \u001b[38;5;241m=\u001b[39m \u001b[38;5;28;01mNone\u001b[39;00m\n",
      "Cell \u001b[0;32mIn[114], line 18\u001b[0m, in \u001b[0;36mMovieFeaturesNN.forward\u001b[0;34m(self, user_ids, movie_ids, title_ids, genre_ids, staff_ids)\u001b[0m\n\u001b[1;32m     16\u001b[0m user_embeds \u001b[38;5;241m=\u001b[39m \u001b[38;5;28mself\u001b[39m\u001b[38;5;241m.\u001b[39muser_embedding(user_ids)\n\u001b[1;32m     17\u001b[0m movie_embeds \u001b[38;5;241m=\u001b[39m \u001b[38;5;28mself\u001b[39m\u001b[38;5;241m.\u001b[39mmovie_embedding(movie_ids)\n\u001b[0;32m---> 18\u001b[0m title_embeds \u001b[38;5;241m=\u001b[39m \u001b[38;5;28;43mself\u001b[39;49m\u001b[38;5;241;43m.\u001b[39;49m\u001b[43mtitle_embedding\u001b[49m\u001b[43m(\u001b[49m\u001b[43mtitle_ids\u001b[49m\u001b[43m)\u001b[49m\n\u001b[1;32m     19\u001b[0m genres_embeds \u001b[38;5;241m=\u001b[39m \u001b[38;5;28mself\u001b[39m\u001b[38;5;241m.\u001b[39mgenres_embedding(genre_ids)\n\u001b[1;32m     20\u001b[0m staff_embeds \u001b[38;5;241m=\u001b[39m \u001b[38;5;28mself\u001b[39m\u001b[38;5;241m.\u001b[39mstaff_embedding(staff_ids)\n",
      "File \u001b[0;32m/opt/conda/lib/python3.10/site-packages/torch/nn/modules/module.py:1518\u001b[0m, in \u001b[0;36mModule._wrapped_call_impl\u001b[0;34m(self, *args, **kwargs)\u001b[0m\n\u001b[1;32m   1516\u001b[0m     \u001b[38;5;28;01mreturn\u001b[39;00m \u001b[38;5;28mself\u001b[39m\u001b[38;5;241m.\u001b[39m_compiled_call_impl(\u001b[38;5;241m*\u001b[39margs, \u001b[38;5;241m*\u001b[39m\u001b[38;5;241m*\u001b[39mkwargs)  \u001b[38;5;66;03m# type: ignore[misc]\u001b[39;00m\n\u001b[1;32m   1517\u001b[0m \u001b[38;5;28;01melse\u001b[39;00m:\n\u001b[0;32m-> 1518\u001b[0m     \u001b[38;5;28;01mreturn\u001b[39;00m \u001b[38;5;28;43mself\u001b[39;49m\u001b[38;5;241;43m.\u001b[39;49m\u001b[43m_call_impl\u001b[49m\u001b[43m(\u001b[49m\u001b[38;5;241;43m*\u001b[39;49m\u001b[43margs\u001b[49m\u001b[43m,\u001b[49m\u001b[43m \u001b[49m\u001b[38;5;241;43m*\u001b[39;49m\u001b[38;5;241;43m*\u001b[39;49m\u001b[43mkwargs\u001b[49m\u001b[43m)\u001b[49m\n",
      "File \u001b[0;32m/opt/conda/lib/python3.10/site-packages/torch/nn/modules/module.py:1527\u001b[0m, in \u001b[0;36mModule._call_impl\u001b[0;34m(self, *args, **kwargs)\u001b[0m\n\u001b[1;32m   1522\u001b[0m \u001b[38;5;66;03m# If we don't have any hooks, we want to skip the rest of the logic in\u001b[39;00m\n\u001b[1;32m   1523\u001b[0m \u001b[38;5;66;03m# this function, and just call forward.\u001b[39;00m\n\u001b[1;32m   1524\u001b[0m \u001b[38;5;28;01mif\u001b[39;00m \u001b[38;5;129;01mnot\u001b[39;00m (\u001b[38;5;28mself\u001b[39m\u001b[38;5;241m.\u001b[39m_backward_hooks \u001b[38;5;129;01mor\u001b[39;00m \u001b[38;5;28mself\u001b[39m\u001b[38;5;241m.\u001b[39m_backward_pre_hooks \u001b[38;5;129;01mor\u001b[39;00m \u001b[38;5;28mself\u001b[39m\u001b[38;5;241m.\u001b[39m_forward_hooks \u001b[38;5;129;01mor\u001b[39;00m \u001b[38;5;28mself\u001b[39m\u001b[38;5;241m.\u001b[39m_forward_pre_hooks\n\u001b[1;32m   1525\u001b[0m         \u001b[38;5;129;01mor\u001b[39;00m _global_backward_pre_hooks \u001b[38;5;129;01mor\u001b[39;00m _global_backward_hooks\n\u001b[1;32m   1526\u001b[0m         \u001b[38;5;129;01mor\u001b[39;00m _global_forward_hooks \u001b[38;5;129;01mor\u001b[39;00m _global_forward_pre_hooks):\n\u001b[0;32m-> 1527\u001b[0m     \u001b[38;5;28;01mreturn\u001b[39;00m \u001b[43mforward_call\u001b[49m\u001b[43m(\u001b[49m\u001b[38;5;241;43m*\u001b[39;49m\u001b[43margs\u001b[49m\u001b[43m,\u001b[49m\u001b[43m \u001b[49m\u001b[38;5;241;43m*\u001b[39;49m\u001b[38;5;241;43m*\u001b[39;49m\u001b[43mkwargs\u001b[49m\u001b[43m)\u001b[49m\n\u001b[1;32m   1529\u001b[0m \u001b[38;5;28;01mtry\u001b[39;00m:\n\u001b[1;32m   1530\u001b[0m     result \u001b[38;5;241m=\u001b[39m \u001b[38;5;28;01mNone\u001b[39;00m\n",
      "File \u001b[0;32m/opt/conda/lib/python3.10/site-packages/torch/nn/modules/sparse.py:162\u001b[0m, in \u001b[0;36mEmbedding.forward\u001b[0;34m(self, input)\u001b[0m\n\u001b[1;32m    161\u001b[0m \u001b[38;5;28;01mdef\u001b[39;00m \u001b[38;5;21mforward\u001b[39m(\u001b[38;5;28mself\u001b[39m, \u001b[38;5;28minput\u001b[39m: Tensor) \u001b[38;5;241m-\u001b[39m\u001b[38;5;241m>\u001b[39m Tensor:\n\u001b[0;32m--> 162\u001b[0m     \u001b[38;5;28;01mreturn\u001b[39;00m \u001b[43mF\u001b[49m\u001b[38;5;241;43m.\u001b[39;49m\u001b[43membedding\u001b[49m\u001b[43m(\u001b[49m\n\u001b[1;32m    163\u001b[0m \u001b[43m        \u001b[49m\u001b[38;5;28;43minput\u001b[39;49m\u001b[43m,\u001b[49m\u001b[43m \u001b[49m\u001b[38;5;28;43mself\u001b[39;49m\u001b[38;5;241;43m.\u001b[39;49m\u001b[43mweight\u001b[49m\u001b[43m,\u001b[49m\u001b[43m \u001b[49m\u001b[38;5;28;43mself\u001b[39;49m\u001b[38;5;241;43m.\u001b[39;49m\u001b[43mpadding_idx\u001b[49m\u001b[43m,\u001b[49m\u001b[43m \u001b[49m\u001b[38;5;28;43mself\u001b[39;49m\u001b[38;5;241;43m.\u001b[39;49m\u001b[43mmax_norm\u001b[49m\u001b[43m,\u001b[49m\n\u001b[1;32m    164\u001b[0m \u001b[43m        \u001b[49m\u001b[38;5;28;43mself\u001b[39;49m\u001b[38;5;241;43m.\u001b[39;49m\u001b[43mnorm_type\u001b[49m\u001b[43m,\u001b[49m\u001b[43m \u001b[49m\u001b[38;5;28;43mself\u001b[39;49m\u001b[38;5;241;43m.\u001b[39;49m\u001b[43mscale_grad_by_freq\u001b[49m\u001b[43m,\u001b[49m\u001b[43m \u001b[49m\u001b[38;5;28;43mself\u001b[39;49m\u001b[38;5;241;43m.\u001b[39;49m\u001b[43msparse\u001b[49m\u001b[43m)\u001b[49m\n",
      "File \u001b[0;32m/opt/conda/lib/python3.10/site-packages/torch/nn/functional.py:2233\u001b[0m, in \u001b[0;36membedding\u001b[0;34m(input, weight, padding_idx, max_norm, norm_type, scale_grad_by_freq, sparse)\u001b[0m\n\u001b[1;32m   2227\u001b[0m     \u001b[38;5;66;03m# Note [embedding_renorm set_grad_enabled]\u001b[39;00m\n\u001b[1;32m   2228\u001b[0m     \u001b[38;5;66;03m# XXX: equivalent to\u001b[39;00m\n\u001b[1;32m   2229\u001b[0m     \u001b[38;5;66;03m# with torch.no_grad():\u001b[39;00m\n\u001b[1;32m   2230\u001b[0m     \u001b[38;5;66;03m#   torch.embedding_renorm_\u001b[39;00m\n\u001b[1;32m   2231\u001b[0m     \u001b[38;5;66;03m# remove once script supports set_grad_enabled\u001b[39;00m\n\u001b[1;32m   2232\u001b[0m     _no_grad_embedding_renorm_(weight, \u001b[38;5;28minput\u001b[39m, max_norm, norm_type)\n\u001b[0;32m-> 2233\u001b[0m \u001b[38;5;28;01mreturn\u001b[39;00m \u001b[43mtorch\u001b[49m\u001b[38;5;241;43m.\u001b[39;49m\u001b[43membedding\u001b[49m\u001b[43m(\u001b[49m\u001b[43mweight\u001b[49m\u001b[43m,\u001b[49m\u001b[43m \u001b[49m\u001b[38;5;28;43minput\u001b[39;49m\u001b[43m,\u001b[49m\u001b[43m \u001b[49m\u001b[43mpadding_idx\u001b[49m\u001b[43m,\u001b[49m\u001b[43m \u001b[49m\u001b[43mscale_grad_by_freq\u001b[49m\u001b[43m,\u001b[49m\u001b[43m \u001b[49m\u001b[43msparse\u001b[49m\u001b[43m)\u001b[49m\n",
      "\u001b[0;31mIndexError\u001b[0m: index out of range in self"
     ]
    }
   ],
   "source": [
    "def train_model(model, ratings, num_epochs=5, batch_size=64):\n",
    "    model.train()\n",
    "    for epoch in range(num_epochs):\n",
    "        epoch_loss = 0\n",
    "        for i in range(0, len(ratings), batch_size):\n",
    "            batch = ratings.iloc[i:i+batch_size]\n",
    "            user_ids = torch.tensor(batch['userId'].values, dtype=torch.long)\n",
    "            movie_ids = torch.tensor(batch['movieId'].values, dtype=torch.long)\n",
    "            title_ids = torch.tensor(batch['title_encoded'].values, dtype=torch.long)\n",
    "            genre_ids = torch.tensor(batch['genres_encoded'].values, dtype=torch.long)\n",
    "            staff_ids = torch.tensor(batch['staff_encoded'].values, dtype=torch.long)\n",
    "            ratings_tensor = torch.tensor(batch['rating'].values, dtype=torch.float32)\n",
    "\n",
    "            # Debugging prints to check ranges\n",
    "            print(f\"Batch {i//batch_size + 1} - Max user_id: {user_ids.max()}, Max movie_id: {movie_ids.max()}, Max title_id: {title_ids.max()}, Max genre_id: {genre_ids.max()}, Max staff_id: {staff_ids.max()}\")\n",
    "\n",
    "            # Check for out-of-range indices\n",
    "            if (user_ids.max() > 6040 or movie_ids.max() > 3952 or \n",
    "                title_ids.max() > 3040 or genre_ids.max() > 668 or \n",
    "                staff_ids.max() > 3086):\n",
    "                print(f\"Out of range index found in batch {i//batch_size + 1}\")\n",
    "                print(f\"user_ids: {user_ids}\")\n",
    "                print(f\"movie_ids: {movie_ids}\")\n",
    "                print(f\"title_ids: {title_ids}\")\n",
    "                print(f\"genre_ids: {genre_ids}\")\n",
    "                print(f\"staff_ids: {staff_ids}\")\n",
    "                raise ValueError(\"Index out of range detected in the batch\")\n",
    "\n",
    "            optimizer.zero_grad()\n",
    "            outputs = model(user_ids, movie_ids, title_ids, genre_ids, staff_ids).squeeze()\n",
    "            loss = criterion(outputs, ratings_tensor)\n",
    "            loss.backward()\n",
    "            optimizer.step()\n",
    "            epoch_loss += loss.item()\n",
    "        print(f\"Epoch {epoch+1}/{num_epochs}, Loss: {epoch_loss/len(ratings)}\")\n",
    "\n",
    "# Assuming ratings DataFrame is already defined\n",
    "train_model(model, ratings)\n"
   ]
  },
  {
   "cell_type": "code",
   "execution_count": null,
   "metadata": {
    "execution": {
     "iopub.status.busy": "2024-07-07T21:02:07.806679Z",
     "iopub.status.idle": "2024-07-07T21:02:07.807318Z",
     "shell.execute_reply": "2024-07-07T21:02:07.807042Z",
     "shell.execute_reply.started": "2024-07-07T21:02:07.807015Z"
    }
   },
   "outputs": [],
   "source": [
    "def recommend_for_couple_nn(model, ratings, enhanced_data, user1, user2):\n",
    "    user_ids = torch.tensor([user1, user2], dtype=torch.long)\n",
    "    movie_ids = torch.tensor(enhanced_data['movieId'].values, dtype=torch.long)\n",
    "    title_ids = torch.tensor(enhanced_data['title_encoded'].values, dtype=torch.long)\n",
    "    genre_ids = torch.tensor(enhanced_data['genres_encoded'].values, dtype=torch.long)\n",
    "    staff_ids = torch.tensor(enhanced_data['staff_encoded'].values, dtype=torch.long)\n",
    "\n",
    "    user1_ratings = model(user_ids[0].repeat(len(movie_ids)), movie_ids, title_ids, genre_ids, staff_ids).squeeze().detach().numpy()\n",
    "    user2_ratings = model(user_ids[1].repeat(len(movie_ids)), movie_ids, title_ids, genre_ids, staff_ids).squeeze().detach().numpy()\n",
    "\n",
    "    couple_scores = (user1_ratings + user2_ratings) / 2\n",
    "\n",
    "    rated_movies_user1 = ratings[ratings['userId'] == user1]['movieId'].values\n",
    "    rated_movies_user2 = ratings[ratings['userId'] == user2]['movieId'].values\n",
    "    rated_movies = set(rated_movies_user1).union(set(rated_movies_user2))\n",
    "\n",
    "    for movie_id in rated_movies:\n",
    "        couple_scores[enhanced_data[enhanced_data['movieId'] == movie_id].index] = -1\n",
    "\n",
    "    top_indices = np.argsort(couple_scores)[-top_n:][::-1]\n",
    "    recommended_movies = enhanced_data.iloc[top_indices]\n",
    "    recommended_scores = couple_scores[top_indices]\n",
    "    return recommended_movies, recommended_scores\n",
    "\n",
    "user1, user2 = 1, 2\n",
    "recommended_movie_id, score = recommend_for_couple_nn(model, ratings, enhanced_data, user1, user2)\n",
    "print(f\"Recommended Movie ID: {recommended_movie_id}, Score: {score}\")\n",
    "\n",
    "recommended_movie_details = enhanced_data[enhanced_data['movieId'] == recommended_movie_id]\n",
    "print(recommended_movie_details)\n"
   ]
  },
  {
   "cell_type": "code",
   "execution_count": null,
   "metadata": {
    "execution": {
     "iopub.status.busy": "2024-07-07T21:02:07.809651Z",
     "iopub.status.idle": "2024-07-07T21:02:07.810410Z",
     "shell.execute_reply": "2024-07-07T21:02:07.810027Z",
     "shell.execute_reply.started": "2024-07-07T21:02:07.810000Z"
    }
   },
   "outputs": [],
   "source": [
    "def evaluate_model(model, test_data):\n",
    "    model.eval()\n",
    "    with torch.no_grad():\n",
    "        user_ids = torch.tensor(test_data['userId'].values, dtype=torch.long)\n",
    "        movie_ids = torch.tensor(test_data['movieId'].values, dtype=torch.long)\n",
    "        title_ids = torch.tensor(test_data['title_encoded'].values, dtype=torch.long)\n",
    "        genre_ids = torch.tensor(test_data['genres_encoded'].values, dtype=torch.long)\n",
    "        staff_ids = torch.tensor(test_data['staff_encoded'].values, dtype=torch.long)\n",
    "        actual_ratings = torch.tensor(test_data['rating'].values, dtype=torch.float32)\n",
    "\n",
    "        predicted_ratings = model(user_ids, movie_ids, title_ids, genre_ids, staff_ids).squeeze()\n",
    "        \n",
    "        mse = mean_squared_error(actual_ratings, predicted_ratings)\n",
    "        rmse = math.sqrt(mse)\n",
    "        return rmse\n",
    "\n",
    "train_data, test_data = train_test_split(ratings, test_size=0.2, random_state=42)\n",
    "rmse = evaluate_model(model, test_data)\n",
    "print(f\"Root Mean Squared Error (RMSE) on test data: {rmse}\")"
   ]
  }
 ],
 "metadata": {
  "kaggle": {
   "accelerator": "none",
   "dataSources": [
    {
     "datasetId": 5231525,
     "sourceId": 8718999,
     "sourceType": "datasetVersion"
    }
   ],
   "dockerImageVersionId": 30732,
   "isGpuEnabled": false,
   "isInternetEnabled": true,
   "language": "python",
   "sourceType": "notebook"
  },
  "kernelspec": {
   "display_name": "Python 3 (ipykernel)",
   "language": "python",
   "name": "python3"
  },
  "language_info": {
   "codemirror_mode": {
    "name": "ipython",
    "version": 3
   },
   "file_extension": ".py",
   "mimetype": "text/x-python",
   "name": "python",
   "nbconvert_exporter": "python",
   "pygments_lexer": "ipython3",
   "version": "3.10.9"
  }
 },
 "nbformat": 4,
 "nbformat_minor": 4
}
